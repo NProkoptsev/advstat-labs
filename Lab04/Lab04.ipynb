{
 "cells": [
  {
   "cell_type": "markdown",
   "metadata": {},
   "source": [
    "# Lab 04\n",
    "## Central Limit Theorem (CLT)\n",
    "\n",
    "\n",
    "The theorem says that under rather general circumstances, if you sum *independent* random variables and normalize\n",
    "them accordingly, then at the limit (when you sum lots of them) you’ll get a normal distribution.\n",
    "\n",
    "The classical version of CLT states that:\n",
    "\n",
    "Suppose that $X_i$ are independent, identically distributed random variables with mean $\\mu$ and variance $\\sigma^2$.\n",
    "\n",
    "Then $\\frac{\\sum_i^n{X_i} - n\\mu }{\\sigma \\sqrt{n}} \\rightarrow N (0, 1).$\n",
    "\n",
    "The meaning of $Y_n \\rightarrow Y$ is as follows: for each interval [a, b],\n",
    "$Pr[a ≤ Y_n ≤ b]  \\rightarrow Pr[a ≤ Y ≤ b].$\n",
    "\n",
    "Note that the type of distribution of $X_i$ is not specified.\n"
   ]
  },
  {
   "cell_type": "markdown",
   "metadata": {},
   "source": [
    "### Exercise 0\n",
    "Let $S_n = \\sum_{i=1}^{n}U_i$ for $n = 1, 2,..., 12$ - the sum of 12 uniform distributions. \n",
    "\n",
    "What is the mean and the variance?\n",
    "\n",
    "Sample from $S_n$ 1000 times and plot the histogram of its normalized sample distribution ($\\frac{\\sum_i^n{X_i} - n\\mu }{\\sigma \\sqrt{n}}$).\n",
    "Plot the pdf for asymptotic Gaussian."
   ]
  },
  {
   "cell_type": "code",
   "execution_count": 250,
   "metadata": {
    "collapsed": true
   },
   "outputs": [],
   "source": [
    "import numpy as np\n",
    "np.random.seed(42)\n",
    "N = 12\n",
    "samples = np.zeros(1000)\n",
    "for i in range(1000):\n",
    "    u = np.random.uniform(size=N)\n",
    "    samples[i] = np.sum(u) - (N/2)"
   ]
  },
  {
   "cell_type": "code",
   "execution_count": 251,
   "metadata": {},
   "outputs": [
    {
     "data": {
      "image/png": "[encoded data removed]",
      "text/plain": [
       "<matplotlib.figure.Figure at 0x1b03b8d8240>"
      ]
     },
     "metadata": {},
     "output_type": "display_data"
    }
   ],
   "source": [
    "import matplotlib.pyplot as plt\n",
    "from scipy.stats import norm\n",
    "%matplotlib inline\n",
    "# 1\n",
    "x = np.linspace(-3,3)\n",
    "plt.hist(samples, 30, normed=True);\n",
    "dist_asympt = norm(0,1)\n",
    "plt.plot(x, dist_asympt.pdf(x));\n"
   ]
  },
  {
   "cell_type": "markdown",
   "metadata": {},
   "source": [
    "### Exercise 1\n",
    "Without the usage of statistical packages sample from binomial distribution (imitating 5 coin tosses) 10000 times. \n",
    "\n",
    "Plot the histogram of sample distribution (with any convenient packages).\n",
    "\n",
    "Plot the pdf of a Gaussian to which the binomial distribution should converge asymptotically. The parameters for this Gaussian can be estimated using CLT, consider the binomial distribution as a distribution of the sum of independent random variables.\n",
    "\n",
    "Repeat the same procedure for 10 and 100 coin tosses."
   ]
  },
  {
   "cell_type": "code",
   "execution_count": 235,
   "metadata": {
    "collapsed": true
   },
   "outputs": [],
   "source": [
    "# 1. sample from binomial distribution (n=100) without using statistical packages.\n",
    "def binom(N):\n",
    "    samples = np.zeros(10000)\n",
    "    for i in range(10000):\n",
    "        u = np.random.uniform(size = N)\n",
    "        samples[i] = (np.sum([ 1 if x > 0.5 else 0 for x in u]))\n",
    "    return samples"
   ]
  },
  {
   "cell_type": "code",
   "execution_count": 270,
   "metadata": {},
   "outputs": [
    {
     "data": {
      "image/png": "[encoded data removed]",
      "text/plain": [
       "<matplotlib.figure.Figure at 0x1b03b5919b0>"
      ]
     },
     "metadata": {},
     "output_type": "display_data"
    }
   ],
   "source": [
    "# 2. plot the histogram of sample and pdf of a Gaussian.\n",
    "N = 5\n",
    "samples = binom(N)\n",
    "mu = N * 0.5\n",
    "sigma = np.sqrt(0.25 * N)\n",
    "x = np.linspace(mu - 3*sigma, mu + 3*sigma )\n",
    "dist_asympt = norm(mu, sigma )\n",
    "plt.hist(samples, 6, normed=True);\n",
    "plt.plot(x, dist_asympt.pdf(x));"
   ]
  },
  {
   "cell_type": "code",
   "execution_count": 256,
   "metadata": {},
   "outputs": [
    {
     "data": {
      "text/plain": [
       "array([ 1.75      ,  1.78061224,  1.81122449,  1.84183673,  1.87244898,\n",
       "        1.90306122,  1.93367347,  1.96428571,  1.99489796,  2.0255102 ,\n",
       "        2.05612245,  2.08673469,  2.11734694,  2.14795918,  2.17857143,\n",
       "        2.20918367,  2.23979592,  2.27040816,  2.30102041,  2.33163265,\n",
       "        2.3622449 ,  2.39285714,  2.42346939,  2.45408163,  2.48469388,\n",
       "        2.51530612,  2.54591837,  2.57653061,  2.60714286,  2.6377551 ,\n",
       "        2.66836735,  2.69897959,  2.72959184,  2.76020408,  2.79081633,\n",
       "        2.82142857,  2.85204082,  2.88265306,  2.91326531,  2.94387755,\n",
       "        2.9744898 ,  3.00510204,  3.03571429,  3.06632653,  3.09693878,\n",
       "        3.12755102,  3.15816327,  3.18877551,  3.21938776,  3.25      ])"
      ]
     },
     "execution_count": 256,
     "metadata": {},
     "output_type": "execute_result"
    }
   ],
   "source": [
    "x"
   ]
  },
  {
   "cell_type": "code",
   "execution_count": 269,
   "metadata": {},
   "outputs": [
    {
     "data": {
      "image/png": "[encoded data removed]",
      "text/plain": [
       "<matplotlib.figure.Figure at 0x1b03b72f128>"
      ]
     },
     "metadata": {},
     "output_type": "display_data"
    }
   ],
   "source": [
    "# 3. repeat the same procedure with n = 10, 100.\n",
    "N = 10\n",
    "samples = binom(N)\n",
    "mu = N * 0.5\n",
    "sigma = np.sqrt(0.25 * N)\n",
    "x = np.linspace(mu - 3*sigma, mu + 3*sigma )\n",
    "dist_asympt = norm(mu, sigma )\n",
    "plt.hist(samples, 11, normed=True);\n",
    "plt.plot(x, dist_asympt.pdf(x));"
   ]
  },
  {
   "cell_type": "code",
   "execution_count": 272,
   "metadata": {},
   "outputs": [
    {
     "data": {
      "image/png": "[encoded data removed]",
      "text/plain": [
       "<matplotlib.figure.Figure at 0x1b03acf7ac8>"
      ]
     },
     "metadata": {},
     "output_type": "display_data"
    }
   ],
   "source": [
    "N = 100\n",
    "samples = binom(N)\n",
    "mu = N * 0.5\n",
    "sigma = np.sqrt(0.25 * N)\n",
    "x = np.linspace(mu - 3*sigma, mu + 3*sigma )\n",
    "dist_asympt = norm(mu, sigma )\n",
    "plt.hist(samples, 38, normed=True);\n",
    "plt.plot(x, dist_asympt.pdf(x));"
   ]
  },
  {
   "cell_type": "markdown",
   "metadata": {},
   "source": [
    "### Exercise 2"
   ]
  },
  {
   "cell_type": "markdown",
   "metadata": {},
   "source": [
    "The average height of adult male in Russia is 177.2 cm with standard deviation 7.42.\n",
    "We suppose that the distribution of the height is Gaussain.\n",
    "Imagine that we take samples of 100 men and measure their height. What will be the distribution of the means for these samples?\n",
    "\n",
    "\n",
    "Depict the original distribution.\n",
    "\n",
    "Make random samples of size 100 from original distribution.\n",
    "Depict the empirical distribution of the sample means and the asymptotical distribution of sample means from CLT."
   ]
  },
  {
   "cell_type": "code",
   "execution_count": 291,
   "metadata": {},
   "outputs": [
    {
     "data": {
      "image/png": "[encoded data removed]",
      "text/plain": [
       "<matplotlib.figure.Figure at 0x1b03b51c128>"
      ]
     },
     "metadata": {},
     "output_type": "display_data"
    }
   ],
   "source": [
    "# 1. Depict the original distribution of male height.\n",
    "mu = 177.2\n",
    "std = 7.42\n",
    "dist_asympt = norm(mu,std)\n",
    "x = np.linspace(mu - 3 *std, mu + 3*std )\n",
    "plt.plot(x, dist_asympt.pdf(x));"
   ]
  },
  {
   "cell_type": "code",
   "execution_count": 292,
   "metadata": {
    "collapsed": true
   },
   "outputs": [],
   "source": [
    "# 2. Make random samples of size 100\n",
    "samples = np.mean(distr.rvs((1000,100)), axis = 1)"
   ]
  },
  {
   "cell_type": "code",
   "execution_count": 295,
   "metadata": {},
   "outputs": [
    {
     "data": {
      "image/png": "[encoded data removed]",
      "text/plain": [
       "<matplotlib.figure.Figure at 0x1b03af6ce80>"
      ]
     },
     "metadata": {},
     "output_type": "display_data"
    }
   ],
   "source": [
    "# 3. Depict the empirical distribution of the sample means and \n",
    "# the asymptotical distribution of sample means from CLT\n",
    "new_std = std/np.sqrt(100)\n",
    "dist_asympt = norm(mu,new_std)\n",
    "x = np.linspace(mu - 3 *new_std, mu + 3*new_std )\n",
    "plt.hist(samples, 30, normed = True);\n",
    "plt.plot(x, dist_asympt.pdf(x));"
   ]
  },
  {
   "cell_type": "markdown",
   "metadata": {},
   "source": [
    "## Multiple comparison problem\n",
    "\n"
   ]
  },
  {
   "cell_type": "markdown",
   "metadata": {},
   "source": [
    "When many correlation coefficients are calculated from a given set of data, the risk of obtaining significant results by chance is increased.\n",
    "\n",
    "There are several algorithms to deal with this problem.\n",
    "Let's say we fix our level of type I error to $\\alpha$.\n",
    "\n",
    "**Bonferroni**\n",
    "\n",
    "Bonferroni method simply reduces $\\alpha$ level to $\\frac{\\alpha}{k}$ where $k$ - the number of comparisons.\n",
    "\n",
    "It is very conservative though quite popular for its simplicity.\n",
    "\n",
    "\n",
    "**Holm**\n",
    "\n",
    "For Holm correction you should sort p-values in ascending order and find the smallest one that satisfies: $p>\\frac{\\alpha}{k+1−i}$, where $i$ is the index in sorted array. \n",
    "\n",
    "This p-value and the ones that are larger are considered insignificant.\n",
    "\n",
    "**Benjamini-Hochberg**\n",
    "\n",
    "In ordered array of p-values find the largest one that satisfies: $p≤\\frac{i}{k}\\alpha$. Then this p-value and all smaller ones are considered significant.\n",
    "\n",
    "The first two procedures control *Family Wise Error Rate* (FWER) i.e. the probability of making at least 1 error of type I. Both Bonferroni and Holm guarantee that the FWER will be not more than given level $\\alpha$.\n",
    "\n",
    "While the last method works with *False Discovery Rate* (FDR) controling the expected number of type I errors. It is then less conservative. Benjamini-Hochberg guarantees that the expected proportion of false discoveries (type I errors) over all discoveries (rejected null hypothesis) is not greater then given $\\alpha$."
   ]
  },
  {
   "cell_type": "markdown",
   "metadata": {},
   "source": [
    "### Exercise 3\n",
    "*Description*\n",
    "\n",
    "There is a hypothesis that some genes are responsible for human body height. \n",
    "\n",
    "Full genome sequencing was performed for 2535 people from different countries i.e. the full sequence of DNA was obtained. The DNA sequence is encoded in 4 letters corresponding to different nucleotides ('A','C','G','T').\n",
    "\n",
    "SNP (Single Nucleotide Polymorphism) is a position in genome where variation of 1 nucleotide exists in population.\n",
    "For example, most of the people can have nucleotide 'A' in this position, while some others have nucleotide 'C'.\n",
    "\n",
    "You are given the data of 5 SNP's. The data is encoded in *0,1,2*. *0* corresponds to most popular variation, *2* - less popular, *1* - is the mix of both variations (remember, we inherit 2 variants from both parents).\n",
    "\n",
    "\n",
    "*Task*\n",
    "\n",
    "1. Read the data from 'data/snp.csv' file. \n",
    "\n",
    "1. Perform the 1-way ANOVA test to check whether the means of 'Height' differ in groups.\n",
    "Get the p-value for each SNP.\n",
    "\n",
    "1. Perform the correction of the multiple comparison using any method (any library).\n",
    "\n",
    "1. Make a conclusion about which SNP are connected with the human height and which are not."
   ]
  },
  {
   "cell_type": "code",
   "execution_count": 352,
   "metadata": {},
   "outputs": [
    {
     "data": {
      "text/html": [
       "<div>\n",
       "<style>\n",
       "    .dataframe thead tr:only-child th {\n",
       "        text-align: right;\n",
       "    }\n",
       "\n",
       "    .dataframe thead th {\n",
       "        text-align: left;\n",
       "    }\n",
       "\n",
       "    .dataframe tbody tr th {\n",
       "        vertical-align: top;\n",
       "    }\n",
       "</style>\n",
       "<table border=\"1\" class=\"dataframe\">\n",
       "  <thead>\n",
       "    <tr style=\"text-align: right;\">\n",
       "      <th></th>\n",
       "      <th>rs16966703</th>\n",
       "      <th>rs10816533</th>\n",
       "      <th>rs7859940</th>\n",
       "      <th>rs2793701</th>\n",
       "      <th>rs7606245</th>\n",
       "      <th>Height</th>\n",
       "    </tr>\n",
       "    <tr>\n",
       "      <th>ID</th>\n",
       "      <th></th>\n",
       "      <th></th>\n",
       "      <th></th>\n",
       "      <th></th>\n",
       "      <th></th>\n",
       "      <th></th>\n",
       "    </tr>\n",
       "  </thead>\n",
       "  <tbody>\n",
       "    <tr>\n",
       "      <th>HG01914</th>\n",
       "      <td>1</td>\n",
       "      <td>0</td>\n",
       "      <td>2</td>\n",
       "      <td>0</td>\n",
       "      <td>1</td>\n",
       "      <td>184.38</td>\n",
       "    </tr>\n",
       "    <tr>\n",
       "      <th>HG01985</th>\n",
       "      <td>0</td>\n",
       "      <td>1</td>\n",
       "      <td>1</td>\n",
       "      <td>1</td>\n",
       "      <td>1</td>\n",
       "      <td>174.55</td>\n",
       "    </tr>\n",
       "    <tr>\n",
       "      <th>HG01986</th>\n",
       "      <td>1</td>\n",
       "      <td>2</td>\n",
       "      <td>2</td>\n",
       "      <td>0</td>\n",
       "      <td>1</td>\n",
       "      <td>175.20</td>\n",
       "    </tr>\n",
       "    <tr>\n",
       "      <th>HG02013</th>\n",
       "      <td>1</td>\n",
       "      <td>1</td>\n",
       "      <td>2</td>\n",
       "      <td>1</td>\n",
       "      <td>1</td>\n",
       "      <td>167.59</td>\n",
       "    </tr>\n",
       "    <tr>\n",
       "      <th>HG02051</th>\n",
       "      <td>0</td>\n",
       "      <td>0</td>\n",
       "      <td>2</td>\n",
       "      <td>0</td>\n",
       "      <td>0</td>\n",
       "      <td>182.53</td>\n",
       "    </tr>\n",
       "  </tbody>\n",
       "</table>\n",
       "</div>"
      ],
      "text/plain": [
       "         rs16966703  rs10816533  rs7859940  rs2793701  rs7606245  Height\n",
       "ID                                                                      \n",
       "HG01914           1           0          2          0          1  184.38\n",
       "HG01985           0           1          1          1          1  174.55\n",
       "HG01986           1           2          2          0          1  175.20\n",
       "HG02013           1           1          2          1          1  167.59\n",
       "HG02051           0           0          2          0          0  182.53"
      ]
     },
     "execution_count": 352,
     "metadata": {},
     "output_type": "execute_result"
    }
   ],
   "source": [
    "features = ['rs7859940', 'rs10816533', 'rs16966703', 'rs2793701', 'rs7606245']\n",
    "import pandas as pd\n",
    "import scipy.stats as stats\n",
    "from statsmodels.sandbox.stats import multicomp\n",
    "df = pd.read_csv('data/snp.csv', index_col=0)\n",
    "df.head()"
   ]
  },
  {
   "cell_type": "code",
   "execution_count": 349,
   "metadata": {},
   "outputs": [
    {
     "data": {
      "text/plain": [
       "[F_onewayResult(statistic=3.8445572741860583, pvalue=0.021520882468864033),\n",
       " F_onewayResult(statistic=45.956514264339994, pvalue=2.4834761942133547e-20),\n",
       " F_onewayResult(statistic=19.762542025052941, pvalue=3.0446500741105462e-09),\n",
       " F_onewayResult(statistic=3.6240967639584509, pvalue=0.026811633284934088),\n",
       " F_onewayResult(statistic=0.62111456229988793, pvalue=0.537427050042668)]"
      ]
     },
     "execution_count": 349,
     "metadata": {},
     "output_type": "execute_result"
    }
   ],
   "source": [
    "results = []\n",
    "for column in df.values.T[:-1]:\n",
    "    gr = []\n",
    "    for i in range(0,3):\n",
    "        gr.append(df.values.T[-1][column == i])\n",
    "    results.append(stats.f_oneway(gr[0],gr[1], gr[2]))\n",
    "results"
   ]
  },
  {
   "cell_type": "code",
   "execution_count": 362,
   "metadata": {},
   "outputs": [
    {
     "data": {
      "text/plain": [
       "(array([False,  True,  True, False, False], dtype=bool),\n",
       " array([  1.07604412e-01,   1.24173810e-19,   1.52232504e-08,\n",
       "          1.34058166e-01,   1.00000000e+00]))"
      ]
     },
     "execution_count": 362,
     "metadata": {},
     "output_type": "execute_result"
    }
   ],
   "source": [
    "results = np.array([[x[0], x[1]] for x in results])\n",
    "multicomp.multipletests(results[:,1], alpha = 0.05, method='bonferroni')[:2]"
   ]
  },
  {
   "cell_type": "markdown",
   "metadata": {},
   "source": [
    "If we take FWER = 0.05, hypothesis 2 and 3 could be rejected, hence they are connected with human height. 1,4,5 are not connected with height."
   ]
  },
  {
   "cell_type": "code",
   "execution_count": null,
   "metadata": {
    "collapsed": true
   },
   "outputs": [],
   "source": []
  }
 ],
 "metadata": {
  "kernelspec": {
   "display_name": "Python 3",
   "language": "python",
   "name": "python3"
  },
  "language_info": {
   "codemirror_mode": {
    "name": "ipython",
    "version": 3
   },
   "file_extension": ".py",
   "mimetype": "text/x-python",
   "name": "python",
   "nbconvert_exporter": "python",
   "pygments_lexer": "ipython3",
   "version": "3.6.1"
  }
 },
 "nbformat": 4,
 "nbformat_minor": 2
}
