{
 "cells": [
  {
   "cell_type": "code",
   "execution_count": 25,
   "metadata": {
    "collapsed": true
   },
   "outputs": [],
   "source": [
    "import pandas as pd\n",
    "import numpy as np\n",
    "from sklearn import ensemble\n",
    "from sklearn import linear_model\n",
    "from sklearn import multioutput\n",
    "from sklearn import metrics\n",
    "import matplotlib.pyplot as plt\n",
    "%matplotlib inline"
   ]
  },
  {
   "cell_type": "markdown",
   "metadata": {},
   "source": [
    "# 1."
   ]
  },
  {
   "cell_type": "code",
   "execution_count": 137,
   "metadata": {},
   "outputs": [
    {
     "data": {
      "text/html": [
       "<div>\n",
       "<style>\n",
       "    .dataframe thead tr:only-child th {\n",
       "        text-align: right;\n",
       "    }\n",
       "\n",
       "    .dataframe thead th {\n",
       "        text-align: left;\n",
       "    }\n",
       "\n",
       "    .dataframe tbody tr th {\n",
       "        vertical-align: top;\n",
       "    }\n",
       "</style>\n",
       "<table border=\"1\" class=\"dataframe\">\n",
       "  <thead>\n",
       "    <tr style=\"text-align: right;\">\n",
       "      <th></th>\n",
       "      <th>p1</th>\n",
       "      <th>p2</th>\n",
       "      <th>p3</th>\n",
       "      <th>p4</th>\n",
       "      <th>p5</th>\n",
       "      <th>p6</th>\n",
       "      <th>p7</th>\n",
       "      <th>p8</th>\n",
       "      <th>p9</th>\n",
       "      <th>p10</th>\n",
       "      <th>...</th>\n",
       "      <th>p24</th>\n",
       "      <th>p25</th>\n",
       "      <th>p26</th>\n",
       "      <th>p27</th>\n",
       "      <th>p28</th>\n",
       "      <th>y1</th>\n",
       "      <th>y2</th>\n",
       "      <th>y3</th>\n",
       "      <th>y4</th>\n",
       "      <th>y5</th>\n",
       "    </tr>\n",
       "    <tr>\n",
       "      <th>id</th>\n",
       "      <th></th>\n",
       "      <th></th>\n",
       "      <th></th>\n",
       "      <th></th>\n",
       "      <th></th>\n",
       "      <th></th>\n",
       "      <th></th>\n",
       "      <th></th>\n",
       "      <th></th>\n",
       "      <th></th>\n",
       "      <th></th>\n",
       "      <th></th>\n",
       "      <th></th>\n",
       "      <th></th>\n",
       "      <th></th>\n",
       "      <th></th>\n",
       "      <th></th>\n",
       "      <th></th>\n",
       "      <th></th>\n",
       "      <th></th>\n",
       "      <th></th>\n",
       "    </tr>\n",
       "  </thead>\n",
       "  <tbody>\n",
       "    <tr>\n",
       "      <th>11</th>\n",
       "      <td>6.48148</td>\n",
       "      <td>3.0</td>\n",
       "      <td>5.0</td>\n",
       "      <td>7.75000</td>\n",
       "      <td>0.0</td>\n",
       "      <td>7.16667</td>\n",
       "      <td>8.16667</td>\n",
       "      <td>9.66667</td>\n",
       "      <td>6.16667</td>\n",
       "      <td>9.0</td>\n",
       "      <td>...</td>\n",
       "      <td>1.66667</td>\n",
       "      <td>3.16667</td>\n",
       "      <td>0.0</td>\n",
       "      <td>0.00000</td>\n",
       "      <td>0.0</td>\n",
       "      <td>1.0</td>\n",
       "      <td>5.00</td>\n",
       "      <td>7.44</td>\n",
       "      <td>1.18</td>\n",
       "      <td>4.38</td>\n",
       "    </tr>\n",
       "    <tr>\n",
       "      <th>12</th>\n",
       "      <td>5.74074</td>\n",
       "      <td>4.0</td>\n",
       "      <td>8.0</td>\n",
       "      <td>7.33333</td>\n",
       "      <td>8.0</td>\n",
       "      <td>8.83333</td>\n",
       "      <td>9.75000</td>\n",
       "      <td>9.66667</td>\n",
       "      <td>9.00000</td>\n",
       "      <td>10.0</td>\n",
       "      <td>...</td>\n",
       "      <td>2.50000</td>\n",
       "      <td>5.50000</td>\n",
       "      <td>5.0</td>\n",
       "      <td>8.66667</td>\n",
       "      <td>8.0</td>\n",
       "      <td>4.5</td>\n",
       "      <td>4.25</td>\n",
       "      <td>8.93</td>\n",
       "      <td>2.00</td>\n",
       "      <td>6.03</td>\n",
       "    </tr>\n",
       "    <tr>\n",
       "      <th>25</th>\n",
       "      <td>7.59259</td>\n",
       "      <td>7.0</td>\n",
       "      <td>8.0</td>\n",
       "      <td>7.66667</td>\n",
       "      <td>8.0</td>\n",
       "      <td>9.66667</td>\n",
       "      <td>9.50000</td>\n",
       "      <td>6.16667</td>\n",
       "      <td>9.66667</td>\n",
       "      <td>6.5</td>\n",
       "      <td>...</td>\n",
       "      <td>3.50000</td>\n",
       "      <td>3.50000</td>\n",
       "      <td>9.0</td>\n",
       "      <td>6.50000</td>\n",
       "      <td>7.0</td>\n",
       "      <td>7.5</td>\n",
       "      <td>11.00</td>\n",
       "      <td>8.97</td>\n",
       "      <td>2.00</td>\n",
       "      <td>9.12</td>\n",
       "    </tr>\n",
       "    <tr>\n",
       "      <th>31</th>\n",
       "      <td>5.96297</td>\n",
       "      <td>4.0</td>\n",
       "      <td>8.0</td>\n",
       "      <td>9.33333</td>\n",
       "      <td>10.0</td>\n",
       "      <td>9.33333</td>\n",
       "      <td>7.00000</td>\n",
       "      <td>8.50000</td>\n",
       "      <td>9.66667</td>\n",
       "      <td>6.5</td>\n",
       "      <td>...</td>\n",
       "      <td>0.00000</td>\n",
       "      <td>0.00000</td>\n",
       "      <td>0.0</td>\n",
       "      <td>0.00000</td>\n",
       "      <td>0.0</td>\n",
       "      <td>4.0</td>\n",
       "      <td>6.25</td>\n",
       "      <td>8.93</td>\n",
       "      <td>1.82</td>\n",
       "      <td>6.41</td>\n",
       "    </tr>\n",
       "    <tr>\n",
       "      <th>48</th>\n",
       "      <td>5.44444</td>\n",
       "      <td>1.0</td>\n",
       "      <td>3.5</td>\n",
       "      <td>6.41667</td>\n",
       "      <td>9.0</td>\n",
       "      <td>8.50000</td>\n",
       "      <td>7.08333</td>\n",
       "      <td>6.33333</td>\n",
       "      <td>9.00000</td>\n",
       "      <td>7.0</td>\n",
       "      <td>...</td>\n",
       "      <td>0.00000</td>\n",
       "      <td>0.00000</td>\n",
       "      <td>0.0</td>\n",
       "      <td>0.00000</td>\n",
       "      <td>0.0</td>\n",
       "      <td>0.0</td>\n",
       "      <td>3.00</td>\n",
       "      <td>8.08</td>\n",
       "      <td>1.36</td>\n",
       "      <td>3.67</td>\n",
       "    </tr>\n",
       "  </tbody>\n",
       "</table>\n",
       "<p>5 rows × 33 columns</p>\n",
       "</div>"
      ],
      "text/plain": [
       "         p1   p2   p3       p4    p5       p6       p7       p8       p9  \\\n",
       "id                                                                         \n",
       "11  6.48148  3.0  5.0  7.75000   0.0  7.16667  8.16667  9.66667  6.16667   \n",
       "12  5.74074  4.0  8.0  7.33333   8.0  8.83333  9.75000  9.66667  9.00000   \n",
       "25  7.59259  7.0  8.0  7.66667   8.0  9.66667  9.50000  6.16667  9.66667   \n",
       "31  5.96297  4.0  8.0  9.33333  10.0  9.33333  7.00000  8.50000  9.66667   \n",
       "48  5.44444  1.0  3.5  6.41667   9.0  8.50000  7.08333  6.33333  9.00000   \n",
       "\n",
       "     p10  ...       p24      p25  p26      p27  p28   y1     y2    y3    y4  \\\n",
       "id        ...                                                                 \n",
       "11   9.0  ...   1.66667  3.16667  0.0  0.00000  0.0  1.0   5.00  7.44  1.18   \n",
       "12  10.0  ...   2.50000  5.50000  5.0  8.66667  8.0  4.5   4.25  8.93  2.00   \n",
       "25   6.5  ...   3.50000  3.50000  9.0  6.50000  7.0  7.5  11.00  8.97  2.00   \n",
       "31   6.5  ...   0.00000  0.00000  0.0  0.00000  0.0  4.0   6.25  8.93  1.82   \n",
       "48   7.0  ...   0.00000  0.00000  0.0  0.00000  0.0  0.0   3.00  8.08  1.36   \n",
       "\n",
       "      y5  \n",
       "id        \n",
       "11  4.38  \n",
       "12  6.03  \n",
       "25  9.12  \n",
       "31  6.41  \n",
       "48  3.67  \n",
       "\n",
       "[5 rows x 33 columns]"
      ]
     },
     "execution_count": 137,
     "metadata": {},
     "output_type": "execute_result"
    }
   ],
   "source": [
    "df_train = pd.read_csv('ds-boot-2.csv',sep='\t', index_col=0)\n",
    "df_train.head()"
   ]
  },
  {
   "cell_type": "code",
   "execution_count": 138,
   "metadata": {
    "collapsed": true
   },
   "outputs": [],
   "source": [
    "X_train = df_train.values[:,:28]\n",
    "y_train = df_train.values[:,28:]"
   ]
  },
  {
   "cell_type": "code",
   "execution_count": 139,
   "metadata": {},
   "outputs": [
    {
     "data": {
      "text/plain": [
       "MultiOutputRegressor(estimator=BaggingRegressor(base_estimator=LinearRegression(copy_X=True, fit_intercept=True, n_jobs=1, normalize=False),\n",
       "         bootstrap=True, bootstrap_features=False, max_features=1.0,\n",
       "         max_samples=0.7, n_estimators=1000, n_jobs=1, oob_score=False,\n",
       "         random_state=None, verbose=0, warm_start=False),\n",
       "           n_jobs=1)"
      ]
     },
     "execution_count": 139,
     "metadata": {},
     "output_type": "execute_result"
    }
   ],
   "source": [
    "est = linear_model.LinearRegression()\n",
    "clf = ensemble.BaggingRegressor(est, 1000, max_samples=0.7)\n",
    "clf = multioutput.MultiOutputRegressor(clf)\n",
    "clf.fit(X_train, y_train)"
   ]
  },
  {
   "cell_type": "code",
   "execution_count": 140,
   "metadata": {},
   "outputs": [
    {
     "name": "stdout",
     "output_type": "stream",
     "text": [
      "Average R^2 0.907000013453\n"
     ]
    }
   ],
   "source": [
    "print('Average R^2', clf.score(X_train, y_train))"
   ]
  },
  {
   "cell_type": "code",
   "execution_count": 141,
   "metadata": {},
   "outputs": [
    {
     "name": "stdout",
     "output_type": "stream",
     "text": [
      "Mean of predicted [ 4.21423448  5.58310933  7.20412782  1.49697034  5.66509756]\n",
      "Mean of predicted [ 4.45953168  6.18182075  8.21766413  1.6902836   6.45575152]\n",
      "MSE  [1.3975555757322415, 1.7303276722466863, 0.08141588434395626, 0.032099640033538081, 0.47079908799697245]\n"
     ]
    }
   ],
   "source": [
    "predicted = clf.predict(X_train)\n",
    "print('Mean of predicted', np.mean(predicted, axis = 0))\n",
    "print('Mean of predicted', np.median(predicted, axis = 0))\n",
    "print('MSE ', [metrics.mean_squared_error(predicted[:,i], y_train[:,i]) for i,_ in enumerate(predicted.T)])"
   ]
  },
  {
   "cell_type": "code",
   "execution_count": 142,
   "metadata": {
    "collapsed": true
   },
   "outputs": [],
   "source": [
    "coef_lower = []\n",
    "coef_upper = []\n",
    "bias_lower = []\n",
    "bias_upper = []\n",
    "for i, estimator in enumerate(clf.estimators_):\n",
    "    s = np.array([lr.coef_ for lr in estimator.estimators_])\n",
    "    coef_lower.append(np.percentile(s, 0.05, axis = 0))\n",
    "    coef_upper.append(np.percentile(s, 0.95, axis = 0))\n",
    "    b = np.array([lr.intercept_ for lr in estimator.estimators_])\n",
    "    bias_lower.append(np.percentile(b, 0.05, axis = 0))\n",
    "    bias_upper.append(np.percentile(b, 0.95, axis = 0))"
   ]
  },
  {
   "cell_type": "code",
   "execution_count": 144,
   "metadata": {},
   "outputs": [
    {
     "name": "stdout",
     "output_type": "stream",
     "text": [
      "Predictor for y0 coef p0 ( -0.420198254106 , -0.228413578374 )\n",
      "Predictor for y0 coef p1 ( -0.534258963941 , -0.4371334605 )\n",
      "Predictor for y0 coef p2 ( -0.871178394034 , -0.723864530228 )\n",
      "Predictor for y0 coef p3 ( -0.3050621785 , -0.215739216607 )\n",
      "Predictor for y0 coef p4 ( -0.96744290781 , -0.790083682539 )\n",
      "Predictor for y0 coef p5 ( -0.691518216407 , -0.383132403356 )\n",
      "Predictor for y0 coef p6 ( -1.07528867286 , -0.818133813836 )\n",
      "Predictor for y0 coef p7 ( -0.77226300763 , -0.526905574144 )\n",
      "Predictor for y0 coef p8 ( -0.677699351557 , -0.508571077836 )\n",
      "Predictor for y0 coef p9 ( -0.798643067755 , -0.630153353279 )\n",
      "Predictor for y0 coef p10 ( -0.447699605248 , -0.287686985811 )\n",
      "Predictor for y0 coef p11 ( -0.687605480367 , -0.483430051036 )\n",
      "Predictor for y0 coef p12 ( -0.618706624084 , -0.462753165689 )\n",
      "Predictor for y0 coef p13 ( -0.664733851471 , -0.536105911891 )\n",
      "Predictor for y0 coef p14 ( -1.09061082296 , -0.823482188799 )\n",
      "Predictor for y0 coef p15 ( -0.482881955001 , -0.332231728682 )\n",
      "Predictor for y0 coef p16 ( -0.402667615966 , -0.246998535697 )\n",
      "Predictor for y0 coef p17 ( -0.615905363289 , -0.54719992654 )\n",
      "Predictor for y0 coef p18 ( -0.781289239866 , -0.64104650256 )\n",
      "Predictor for y0 coef p19 ( -0.789576848096 , -0.672170388292 )\n",
      "Predictor for y0 coef p20 ( -0.410664059917 , -0.210795881175 )\n",
      "Predictor for y0 coef p21 ( -0.616123144506 , -0.461107371134 )\n",
      "Predictor for y0 coef p22 ( -0.231301014015 , -0.0708061668746 )\n",
      "Predictor for y0 coef p23 ( -0.895538088495 , -0.651383128506 )\n",
      "Predictor for y0 coef p24 ( -0.401665178775 , -0.315185375128 )\n",
      "Predictor for y0 coef p25 ( -0.51329628122 , -0.377356014261 )\n",
      "Predictor for y0 coef p26 ( -0.777360230786 , -0.440685093713 )\n",
      "Predictor for y0 coef p27 ( -0.793545332311 , -0.586377018091 )\n",
      "Predictor for y0  bias ( -0.793545332311 , -0.586377018091 )\n",
      "Predictor for y1 coef p0 ( -0.691716741035 , -0.478430992337 )\n",
      "Predictor for y1 coef p1 ( -0.563804403444 , -0.400863996241 )\n",
      "Predictor for y1 coef p2 ( -1.05014801776 , -0.720202708819 )\n",
      "Predictor for y1 coef p3 ( -0.814440734354 , -0.607874952572 )\n",
      "Predictor for y1 coef p4 ( -1.07657458152 , -0.753058453726 )\n",
      "Predictor for y1 coef p5 ( -0.406447804232 , -0.285305224907 )\n",
      "Predictor for y1 coef p6 ( -0.445041871881 , -0.214049182343 )\n",
      "Predictor for y1 coef p7 ( -1.43699185052 , -0.823313239028 )\n",
      "Predictor for y1 coef p8 ( -1.02915262093 , -0.534661254106 )\n",
      "Predictor for y1 coef p9 ( -1.10927884373 , -0.580871099629 )\n",
      "Predictor for y1 coef p10 ( -1.0202177349 , -0.545160037817 )\n",
      "Predictor for y1 coef p11 ( -0.666474438254 , -0.515207683603 )\n",
      "Predictor for y1 coef p12 ( -1.00779643511 , -0.690227019307 )\n",
      "Predictor for y1 coef p13 ( -0.766711493637 , -0.406728094111 )\n",
      "Predictor for y1 coef p14 ( -1.06508835787 , -0.79399855199 )\n",
      "Predictor for y1 coef p15 ( -0.483551895227 , -0.320946327346 )\n",
      "Predictor for y1 coef p16 ( -0.779318972559 , -0.432839236278 )\n",
      "Predictor for y1 coef p17 ( -0.711611883663 , -0.504180408112 )\n",
      "Predictor for y1 coef p18 ( -1.07267630581 , -0.854690526456 )\n",
      "Predictor for y1 coef p19 ( -1.06334124165 , -0.919346245965 )\n",
      "Predictor for y1 coef p20 ( -0.410243771288 , -0.322069040709 )\n",
      "Predictor for y1 coef p21 ( -0.52957237811 , -0.341913754277 )\n",
      "Predictor for y1 coef p22 ( -0.586934209908 , -0.479822209388 )\n",
      "Predictor for y1 coef p23 ( -0.936003931256 , -0.601159228404 )\n",
      "Predictor for y1 coef p24 ( -0.805504007143 , -0.507683674369 )\n",
      "Predictor for y1 coef p25 ( -0.446259757174 , -0.278314154777 )\n",
      "Predictor for y1 coef p26 ( -0.991200033252 , -0.760801162015 )\n",
      "Predictor for y1 coef p27 ( -0.774099868757 , -0.60174468907 )\n",
      "Predictor for y1  bias ( -0.774099868757 , -0.60174468907 )\n",
      "Predictor for y2 coef p0 ( -0.101744162228 , -0.0478801963993 )\n",
      "Predictor for y2 coef p1 ( -0.1112879557 , -0.0702702989505 )\n",
      "Predictor for y2 coef p2 ( -0.105956638675 , -0.0635351751282 )\n",
      "Predictor for y2 coef p3 ( -0.157300381285 , -0.0324206318503 )\n",
      "Predictor for y2 coef p4 ( -0.0836655779722 , -0.0269447468288 )\n",
      "Predictor for y2 coef p5 ( -0.157183248914 , -0.100637397892 )\n",
      "Predictor for y2 coef p6 ( -0.0243994625374 , 0.0119100389246 )\n",
      "Predictor for y2 coef p7 ( -0.0347160082592 , 0.0127060439751 )\n",
      "Predictor for y2 coef p8 ( -0.113149734003 , -0.0402523670391 )\n",
      "Predictor for y2 coef p9 ( -0.0796478552049 , -0.0380156792915 )\n",
      "Predictor for y2 coef p10 ( -0.0665483031156 , 0.0167560340275 )\n",
      "Predictor for y2 coef p11 ( -0.0424413590307 , -0.00613335444306 )\n",
      "Predictor for y2 coef p12 ( -0.178802379916 , -0.0926035248388 )\n",
      "Predictor for y2 coef p13 ( -0.0804743056773 , -0.0357245644583 )\n",
      "Predictor for y2 coef p14 ( -0.0457004742149 , -0.0239808338769 )\n",
      "Predictor for y2 coef p15 ( -0.137384003972 , -0.0831725374228 )\n",
      "Predictor for y2 coef p16 ( -0.156666072194 , -0.115133091657 )\n",
      "Predictor for y2 coef p17 ( -0.118416160047 , -0.104155689712 )\n",
      "Predictor for y2 coef p18 ( -0.0912883671118 , -0.0483575680605 )\n",
      "Predictor for y2 coef p19 ( -0.134791869103 , -0.0725574985744 )\n",
      "Predictor for y2 coef p20 ( -0.1763727665 , -0.0988797324784 )\n",
      "Predictor for y2 coef p21 ( -0.186778635333 , -0.129274163429 )\n",
      "Predictor for y2 coef p22 ( -0.121867342099 , -0.0845427277601 )\n",
      "Predictor for y2 coef p23 ( -0.192745761565 , -0.0698589703819 )\n",
      "Predictor for y2 coef p24 ( -0.193902839229 , -0.161780287205 )\n",
      "Predictor for y2 coef p25 ( -0.18448609602 , -0.110085923837 )\n",
      "Predictor for y2 coef p26 ( -0.162900288375 , -0.0996727538131 )\n",
      "Predictor for y2 coef p27 ( -0.182413014768 , -0.10436198412 )\n",
      "Predictor for y2  bias ( -0.182413014768 , -0.10436198412 )\n",
      "Predictor for y3 coef p0 ( -0.142596640228 , -0.0954035490109 )\n",
      "Predictor for y3 coef p1 ( -0.0816162960609 , -0.0640008204456 )\n",
      "Predictor for y3 coef p2 ( -0.0752022746366 , -0.0451117255799 )\n",
      "Predictor for y3 coef p3 ( -0.0532015913655 , -0.0351897634722 )\n",
      "Predictor for y3 coef p4 ( -0.0708846434864 , -0.0308223175238 )\n",
      "Predictor for y3 coef p5 ( -0.0511477664366 , -0.0385232870583 )\n",
      "Predictor for y3 coef p6 ( -0.120368868373 , -0.0953468226458 )\n",
      "Predictor for y3 coef p7 ( -0.0505145962185 , -0.0259987258059 )\n",
      "Predictor for y3 coef p8 ( -0.0659966379078 , -0.0401013926644 )\n",
      "Predictor for y3 coef p9 ( -0.0615212494802 , -0.0456301507236 )\n",
      "Predictor for y3 coef p10 ( -0.119607216234 , -0.082522164867 )\n",
      "Predictor for y3 coef p11 ( -0.0887519352995 , -0.0715496338663 )\n",
      "Predictor for y3 coef p12 ( -0.166557599898 , -0.123125089985 )\n",
      "Predictor for y3 coef p13 ( -0.0720792873643 , -0.0338558262398 )\n",
      "Predictor for y3 coef p14 ( -0.125910607685 , -0.100544030006 )\n",
      "Predictor for y3 coef p15 ( -0.0363081323911 , -0.0261365752134 )\n",
      "Predictor for y3 coef p16 ( -0.116374596287 , -0.0922852829738 )\n",
      "Predictor for y3 coef p17 ( -0.0879200333865 , -0.0320487866612 )\n",
      "Predictor for y3 coef p18 ( -0.0596019792113 , -0.0446307150998 )\n",
      "Predictor for y3 coef p19 ( -0.0824419693984 , -0.0403900747059 )\n",
      "Predictor for y3 coef p20 ( -0.0480955447568 , -0.0236482577856 )\n",
      "Predictor for y3 coef p21 ( -0.11879753453 , -0.102151519872 )\n",
      "Predictor for y3 coef p22 ( -0.0552191577698 , -0.0368763919078 )\n",
      "Predictor for y3 coef p23 ( -0.0659179041934 , -0.052336128663 )\n",
      "Predictor for y3 coef p24 ( -0.141496018633 , -0.0952310900168 )\n",
      "Predictor for y3 coef p25 ( -0.0793102594285 , -0.0509358629433 )\n",
      "Predictor for y3 coef p26 ( -0.0968240280052 , -0.0658893138347 )\n",
      "Predictor for y3 coef p27 ( -0.0675451719952 , -0.0517954176323 )\n",
      "Predictor for y3  bias ( -0.0675451719952 , -0.0517954176323 )\n",
      "Predictor for y4 coef p0 ( -0.254970701751 , -0.17009003521 )\n",
      "Predictor for y4 coef p1 ( -0.299637065234 , -0.200996824986 )\n",
      "Predictor for y4 coef p2 ( -0.471280024078 , -0.340937265083 )\n",
      "Predictor for y4 coef p3 ( -0.137055407738 , -0.0579798993607 )\n",
      "Predictor for y4 coef p4 ( -0.430003895106 , -0.365138794703 )\n",
      "Predictor for y4 coef p5 ( -0.24050503926 , -0.150113096045 )\n",
      "Predictor for y4 coef p6 ( -0.433751702472 , -0.219768937541 )\n",
      "Predictor for y4 coef p7 ( -0.435889661067 , -0.306214184455 )\n",
      "Predictor for y4 coef p8 ( -0.516213240552 , -0.239419610709 )\n",
      "Predictor for y4 coef p9 ( -0.494672009442 , -0.311173564139 )\n",
      "Predictor for y4 coef p10 ( -0.282216608128 , -0.185744008937 )\n",
      "Predictor for y4 coef p11 ( -0.440808247343 , -0.285233065216 )\n",
      "Predictor for y4 coef p12 ( -0.341933024953 , -0.247044101326 )\n",
      "Predictor for y4 coef p13 ( -0.367440810044 , -0.195433365214 )\n",
      "Predictor for y4 coef p14 ( -0.62621575735 , -0.468689761095 )\n",
      "Predictor for y4 coef p15 ( -0.191216386774 , -0.130665887517 )\n",
      "Predictor for y4 coef p16 ( -0.242316602944 , -0.164786024572 )\n",
      "Predictor for y4 coef p17 ( -0.391932008772 , -0.290814715439 )\n",
      "Predictor for y4 coef p18 ( -0.478380110501 , -0.43493965519 )\n",
      "Predictor for y4 coef p19 ( -0.483531448346 , -0.353836002177 )\n",
      "Predictor for y4 coef p20 ( -0.211778383119 , -0.134334562322 )\n",
      "Predictor for y4 coef p21 ( -0.304507505926 , -0.218447434295 )\n",
      "Predictor for y4 coef p22 ( -0.197243960487 , -0.115724596268 )\n",
      "Predictor for y4 coef p23 ( -0.501341940609 , -0.366888546905 )\n",
      "Predictor for y4 coef p24 ( -0.276312058082 , -0.215085909346 )\n",
      "Predictor for y4 coef p25 ( -0.303189001758 , -0.213908797549 )\n",
      "Predictor for y4 coef p26 ( -0.4879923305 , -0.338488065001 )\n",
      "Predictor for y4 coef p27 ( -0.367541244041 , -0.318935318041 )\n",
      "Predictor for y4  bias ( -0.367541244041 , -0.318935318041 )\n"
     ]
    }
   ],
   "source": [
    "for i in range(len(coef_lower)):\n",
    "    for j in range(coef_lower[i].shape[0]):\n",
    "        print ('Predictor for y{}'.format(i), 'coef p{}'.format(j), '(', coef_lower[i][j], ',',coef_upper[i][j], ')')\n",
    "    print ('Predictor for y{}'.format(i),' bias', '(', coef_lower[i][j], ',',coef_upper[i][j], ')')"
   ]
  },
  {
   "cell_type": "markdown",
   "metadata": {
    "collapsed": true
   },
   "source": [
    "# 2."
   ]
  },
  {
   "cell_type": "code",
   "execution_count": 115,
   "metadata": {},
   "outputs": [
    {
     "data": {
      "text/plain": [
       "(1327, 2)"
      ]
     },
     "execution_count": 115,
     "metadata": {},
     "output_type": "execute_result"
    }
   ],
   "source": [
    "df = pd.read_csv('ds-boot-1.csv',sep='\t', index_col=0)\n",
    "df.shape"
   ]
  },
  {
   "cell_type": "code",
   "execution_count": 24,
   "metadata": {},
   "outputs": [
    {
     "data": {
      "text/plain": [
       "[<matplotlib.lines.Line2D at 0x29e13ca02b0>]"
      ]
     },
     "execution_count": 24,
     "metadata": {},
     "output_type": "execute_result"
    },
    {
     "data": {
      "image/png": "[encoded data removed]",
      "text/plain": [
       "<matplotlib.figure.Figure at 0x29e13ca0cc0>"
      ]
     },
     "metadata": {},
     "output_type": "display_data"
    }
   ],
   "source": [
    "plt.plot(df.cummBugs.values)"
   ]
  },
  {
   "cell_type": "code",
   "execution_count": 134,
   "metadata": {},
   "outputs": [
    {
     "name": "stderr",
     "output_type": "stream",
     "text": [
      "C:\\Users\\nprok\\Anaconda3\\lib\\site-packages\\ipykernel_launcher.py:8: RuntimeWarning: overflow encountered in exp\n",
      "  \n"
     ]
    }
   ],
   "source": [
    "from scipy import optimize\n",
    "from functools import reduce\n",
    "B = 1000\n",
    "N = df.shape[0]\n",
    "block_size = 20\n",
    "n_blocks = int(np.ceil(N / 20))\n",
    "def logistic(x, L, x0, k):\n",
    "    return L / (1 + np.exp(-k*(x - x0)))\n",
    "\n",
    "blocks = np.array_split(df.bugsPerDay.values, n_blocks)\n",
    "coef = np.zeros((B, 3))\n",
    "for i in range(B):\n",
    "    bootstrap_indeces = np.sort(np.random.randint(0, n_blocks, n_blocks))\n",
    "    bootstrap_samples = [blocks[index].tolist() for index in bootstrap_indeces]\n",
    "    bootstrap_samples = reduce(lambda x,y: x+y,bootstrap_samples)\n",
    "    bootstrap_samples = list(itertools.accumulate(bootstrap_samples))\n",
    "    coef[i], _ = optimize.curve_fit(logistic, np.arange(len(bootstrap_samples)), bootstrap_samples)"
   ]
  },
  {
   "cell_type": "code",
   "execution_count": 135,
   "metadata": {},
   "outputs": [
    {
     "name": "stdout",
     "output_type": "stream",
     "text": [
      "Coef L (4001.661863 , 4214.244346)\n",
      "Coef x0 (490.469110 , 516.878390)\n",
      "Coef k (0.003914 , 0.004513)\n"
     ]
    }
   ],
   "source": [
    "mean_coef = np.mean(coef,axis=0)\n",
    "lb = np.percentile(coef, 0.05, axis = 0)\n",
    "ub = np.percentile(coef, 0.95, axis = 0)\n",
    "print(\"Coef L (%f , %f)\" % (lb[0] , ub[0]))\n",
    "print(\"Coef x0 (%f , %f)\" % (lb[1] , ub[1]))\n",
    "print(\"Coef k (%f , %f)\" % (lb[2] , ub[2]))"
   ]
  },
  {
   "cell_type": "code",
   "execution_count": 136,
   "metadata": {},
   "outputs": [
    {
     "data": {
      "text/plain": [
       "[<matplotlib.lines.Line2D at 0x29e15b2fe10>]"
      ]
     },
     "execution_count": 136,
     "metadata": {},
     "output_type": "execute_result"
    },
    {
     "data": {
      "image/png": "[encoded data removed]",
      "text/plain": [
       "<matplotlib.figure.Figure at 0x29e15b27fd0>"
      ]
     },
     "metadata": {},
     "output_type": "display_data"
    }
   ],
   "source": [
    "def bootstrap_fn(x):\n",
    "    return mean_coef[0] / (1 + np.exp(-mean_coef[2]*(x - mean_coef[1])))\n",
    "    \n",
    "plt.plot(bootstrap_fn(np.arange(N)))"
   ]
  },
  {
   "cell_type": "code",
   "execution_count": null,
   "metadata": {
    "collapsed": true
   },
   "outputs": [],
   "source": []
  }
 ],
 "metadata": {
  "kernelspec": {
   "display_name": "Python 3",
   "language": "python",
   "name": "python3"
  },
  "language_info": {
   "codemirror_mode": {
    "name": "ipython",
    "version": 3
   },
   "file_extension": ".py",
   "mimetype": "text/x-python",
   "name": "python",
   "nbconvert_exporter": "python",
   "pygments_lexer": "ipython3",
   "version": "3.6.3"
  },
  "varInspector": {
   "cols": {
    "lenName": 16,
    "lenType": 16,
    "lenVar": 40
   },
   "kernels_config": {
    "python": {
     "delete_cmd_postfix": "",
     "delete_cmd_prefix": "del ",
     "library": "var_list.py",
     "varRefreshCmd": "print(var_dic_list())"
    },
    "r": {
     "delete_cmd_postfix": ") ",
     "delete_cmd_prefix": "rm(",
     "library": "var_list.r",
     "varRefreshCmd": "cat(var_dic_list()) "
    }
   },
   "types_to_exclude": [
    "module",
    "function",
    "builtin_function_or_method",
    "instance",
    "_Feature"
   ],
   "window_display": false
  }
 },
 "nbformat": 4,
 "nbformat_minor": 2
}
