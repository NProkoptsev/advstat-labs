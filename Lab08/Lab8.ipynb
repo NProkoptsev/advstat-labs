{
 "cells": [
  {
   "cell_type": "code",
   "execution_count": 1,
   "metadata": {
    "collapsed": true
   },
   "outputs": [],
   "source": [
    "import pandas as pd\n",
    "import numpy as np\n",
    "from sklearn import ensemble\n",
    "from sklearn import linear_model\n",
    "from sklearn import multioutput\n",
    "from sklearn import metrics\n",
    "import matplotlib.pyplot as plt\n",
    "%matplotlib inline"
   ]
  },
  {
   "cell_type": "markdown",
   "metadata": {},
   "source": [
    "# 1."
   ]
  },
  {
   "cell_type": "code",
   "execution_count": 2,
   "metadata": {},
   "outputs": [
    {
     "data": {
      "text/html": [
       "<div>\n",
       "<style>\n",
       "    .dataframe thead tr:only-child th {\n",
       "        text-align: right;\n",
       "    }\n",
       "\n",
       "    .dataframe thead th {\n",
       "        text-align: left;\n",
       "    }\n",
       "\n",
       "    .dataframe tbody tr th {\n",
       "        vertical-align: top;\n",
       "    }\n",
       "</style>\n",
       "<table border=\"1\" class=\"dataframe\">\n",
       "  <thead>\n",
       "    <tr style=\"text-align: right;\">\n",
       "      <th></th>\n",
       "      <th>p1</th>\n",
       "      <th>p2</th>\n",
       "      <th>p3</th>\n",
       "      <th>p4</th>\n",
       "      <th>p5</th>\n",
       "      <th>p6</th>\n",
       "      <th>p7</th>\n",
       "      <th>p8</th>\n",
       "      <th>p9</th>\n",
       "      <th>p10</th>\n",
       "      <th>...</th>\n",
       "      <th>p24</th>\n",
       "      <th>p25</th>\n",
       "      <th>p26</th>\n",
       "      <th>p27</th>\n",
       "      <th>p28</th>\n",
       "      <th>y1</th>\n",
       "      <th>y2</th>\n",
       "      <th>y3</th>\n",
       "      <th>y4</th>\n",
       "      <th>y5</th>\n",
       "    </tr>\n",
       "    <tr>\n",
       "      <th>id</th>\n",
       "      <th></th>\n",
       "      <th></th>\n",
       "      <th></th>\n",
       "      <th></th>\n",
       "      <th></th>\n",
       "      <th></th>\n",
       "      <th></th>\n",
       "      <th></th>\n",
       "      <th></th>\n",
       "      <th></th>\n",
       "      <th></th>\n",
       "      <th></th>\n",
       "      <th></th>\n",
       "      <th></th>\n",
       "      <th></th>\n",
       "      <th></th>\n",
       "      <th></th>\n",
       "      <th></th>\n",
       "      <th></th>\n",
       "      <th></th>\n",
       "      <th></th>\n",
       "    </tr>\n",
       "  </thead>\n",
       "  <tbody>\n",
       "    <tr>\n",
       "      <th>11</th>\n",
       "      <td>6.48148</td>\n",
       "      <td>3.0</td>\n",
       "      <td>5.0</td>\n",
       "      <td>7.75000</td>\n",
       "      <td>0.0</td>\n",
       "      <td>7.16667</td>\n",
       "      <td>8.16667</td>\n",
       "      <td>9.66667</td>\n",
       "      <td>6.16667</td>\n",
       "      <td>9.0</td>\n",
       "      <td>...</td>\n",
       "      <td>1.66667</td>\n",
       "      <td>3.16667</td>\n",
       "      <td>0.0</td>\n",
       "      <td>0.00000</td>\n",
       "      <td>0.0</td>\n",
       "      <td>1.0</td>\n",
       "      <td>5.00</td>\n",
       "      <td>7.44</td>\n",
       "      <td>1.18</td>\n",
       "      <td>4.38</td>\n",
       "    </tr>\n",
       "    <tr>\n",
       "      <th>12</th>\n",
       "      <td>5.74074</td>\n",
       "      <td>4.0</td>\n",
       "      <td>8.0</td>\n",
       "      <td>7.33333</td>\n",
       "      <td>8.0</td>\n",
       "      <td>8.83333</td>\n",
       "      <td>9.75000</td>\n",
       "      <td>9.66667</td>\n",
       "      <td>9.00000</td>\n",
       "      <td>10.0</td>\n",
       "      <td>...</td>\n",
       "      <td>2.50000</td>\n",
       "      <td>5.50000</td>\n",
       "      <td>5.0</td>\n",
       "      <td>8.66667</td>\n",
       "      <td>8.0</td>\n",
       "      <td>4.5</td>\n",
       "      <td>4.25</td>\n",
       "      <td>8.93</td>\n",
       "      <td>2.00</td>\n",
       "      <td>6.03</td>\n",
       "    </tr>\n",
       "    <tr>\n",
       "      <th>25</th>\n",
       "      <td>7.59259</td>\n",
       "      <td>7.0</td>\n",
       "      <td>8.0</td>\n",
       "      <td>7.66667</td>\n",
       "      <td>8.0</td>\n",
       "      <td>9.66667</td>\n",
       "      <td>9.50000</td>\n",
       "      <td>6.16667</td>\n",
       "      <td>9.66667</td>\n",
       "      <td>6.5</td>\n",
       "      <td>...</td>\n",
       "      <td>3.50000</td>\n",
       "      <td>3.50000</td>\n",
       "      <td>9.0</td>\n",
       "      <td>6.50000</td>\n",
       "      <td>7.0</td>\n",
       "      <td>7.5</td>\n",
       "      <td>11.00</td>\n",
       "      <td>8.97</td>\n",
       "      <td>2.00</td>\n",
       "      <td>9.12</td>\n",
       "    </tr>\n",
       "    <tr>\n",
       "      <th>31</th>\n",
       "      <td>5.96297</td>\n",
       "      <td>4.0</td>\n",
       "      <td>8.0</td>\n",
       "      <td>9.33333</td>\n",
       "      <td>10.0</td>\n",
       "      <td>9.33333</td>\n",
       "      <td>7.00000</td>\n",
       "      <td>8.50000</td>\n",
       "      <td>9.66667</td>\n",
       "      <td>6.5</td>\n",
       "      <td>...</td>\n",
       "      <td>0.00000</td>\n",
       "      <td>0.00000</td>\n",
       "      <td>0.0</td>\n",
       "      <td>0.00000</td>\n",
       "      <td>0.0</td>\n",
       "      <td>4.0</td>\n",
       "      <td>6.25</td>\n",
       "      <td>8.93</td>\n",
       "      <td>1.82</td>\n",
       "      <td>6.41</td>\n",
       "    </tr>\n",
       "    <tr>\n",
       "      <th>48</th>\n",
       "      <td>5.44444</td>\n",
       "      <td>1.0</td>\n",
       "      <td>3.5</td>\n",
       "      <td>6.41667</td>\n",
       "      <td>9.0</td>\n",
       "      <td>8.50000</td>\n",
       "      <td>7.08333</td>\n",
       "      <td>6.33333</td>\n",
       "      <td>9.00000</td>\n",
       "      <td>7.0</td>\n",
       "      <td>...</td>\n",
       "      <td>0.00000</td>\n",
       "      <td>0.00000</td>\n",
       "      <td>0.0</td>\n",
       "      <td>0.00000</td>\n",
       "      <td>0.0</td>\n",
       "      <td>0.0</td>\n",
       "      <td>3.00</td>\n",
       "      <td>8.08</td>\n",
       "      <td>1.36</td>\n",
       "      <td>3.67</td>\n",
       "    </tr>\n",
       "  </tbody>\n",
       "</table>\n",
       "<p>5 rows × 33 columns</p>\n",
       "</div>"
      ],
      "text/plain": [
       "         p1   p2   p3       p4    p5       p6       p7       p8       p9  \\\n",
       "id                                                                         \n",
       "11  6.48148  3.0  5.0  7.75000   0.0  7.16667  8.16667  9.66667  6.16667   \n",
       "12  5.74074  4.0  8.0  7.33333   8.0  8.83333  9.75000  9.66667  9.00000   \n",
       "25  7.59259  7.0  8.0  7.66667   8.0  9.66667  9.50000  6.16667  9.66667   \n",
       "31  5.96297  4.0  8.0  9.33333  10.0  9.33333  7.00000  8.50000  9.66667   \n",
       "48  5.44444  1.0  3.5  6.41667   9.0  8.50000  7.08333  6.33333  9.00000   \n",
       "\n",
       "     p10  ...       p24      p25  p26      p27  p28   y1     y2    y3    y4  \\\n",
       "id        ...                                                                 \n",
       "11   9.0  ...   1.66667  3.16667  0.0  0.00000  0.0  1.0   5.00  7.44  1.18   \n",
       "12  10.0  ...   2.50000  5.50000  5.0  8.66667  8.0  4.5   4.25  8.93  2.00   \n",
       "25   6.5  ...   3.50000  3.50000  9.0  6.50000  7.0  7.5  11.00  8.97  2.00   \n",
       "31   6.5  ...   0.00000  0.00000  0.0  0.00000  0.0  4.0   6.25  8.93  1.82   \n",
       "48   7.0  ...   0.00000  0.00000  0.0  0.00000  0.0  0.0   3.00  8.08  1.36   \n",
       "\n",
       "      y5  \n",
       "id        \n",
       "11  4.38  \n",
       "12  6.03  \n",
       "25  9.12  \n",
       "31  6.41  \n",
       "48  3.67  \n",
       "\n",
       "[5 rows x 33 columns]"
      ]
     },
     "execution_count": 2,
     "metadata": {},
     "output_type": "execute_result"
    }
   ],
   "source": [
    "df_train = pd.read_csv('ds-boot-2.csv',sep='\t', index_col=0)\n",
    "df_train.head()"
   ]
  },
  {
   "cell_type": "code",
   "execution_count": 3,
   "metadata": {
    "collapsed": true
   },
   "outputs": [],
   "source": [
    "X_train = df_train.values[:,:28]\n",
    "y_train = df_train.values[:,28:]"
   ]
  },
  {
   "cell_type": "code",
   "execution_count": 4,
   "metadata": {},
   "outputs": [
    {
     "data": {
      "text/plain": [
       "MultiOutputRegressor(estimator=BaggingRegressor(base_estimator=LinearRegression(copy_X=True, fit_intercept=True, n_jobs=1, normalize=False),\n",
       "         bootstrap=True, bootstrap_features=False, max_features=1.0,\n",
       "         max_samples=0.7, n_estimators=1000, n_jobs=1, oob_score=False,\n",
       "         random_state=None, verbose=0, warm_start=False),\n",
       "           n_jobs=1)"
      ]
     },
     "execution_count": 4,
     "metadata": {},
     "output_type": "execute_result"
    }
   ],
   "source": [
    "est = linear_model.LinearRegression()\n",
    "clf = ensemble.BaggingRegressor(est, 1000, max_samples=0.7)\n",
    "clf = multioutput.MultiOutputRegressor(clf)\n",
    "clf.fit(X_train, y_train)"
   ]
  },
  {
   "cell_type": "code",
   "execution_count": 5,
   "metadata": {},
   "outputs": [
    {
     "name": "stdout",
     "output_type": "stream",
     "text": [
      "Average R^2 0.906315719882\n"
     ]
    }
   ],
   "source": [
    "print('Average R^2', clf.score(X_train, y_train))"
   ]
  },
  {
   "cell_type": "code",
   "execution_count": 6,
   "metadata": {},
   "outputs": [
    {
     "name": "stdout",
     "output_type": "stream",
     "text": [
      "Mean of predicted [ 4.20937447  5.5448831   7.21935626  1.50038083  5.68477451]\n",
      "Mean of predicted [ 4.44298852  6.20663694  8.23939004  1.7103865   6.48153644]\n",
      "MSE  [1.4146748892890724, 1.733854790527958, 0.076953733582461922, 0.032438346277501952, 0.47679610192507005]\n"
     ]
    }
   ],
   "source": [
    "predicted = clf.predict(X_train)\n",
    "print('Mean of predicted', np.mean(predicted, axis = 0))\n",
    "print('Mean of predicted', np.median(predicted, axis = 0))\n",
    "print('MSE ', [metrics.mean_squared_error(predicted[:,i], y_train[:,i]) for i,_ in enumerate(predicted.T)])"
   ]
  },
  {
   "cell_type": "code",
   "execution_count": 7,
   "metadata": {
    "collapsed": true
   },
   "outputs": [],
   "source": [
    "coef_lower = []\n",
    "coef_upper = []\n",
    "bias_lower = []\n",
    "bias_upper = []\n",
    "for i, estimator in enumerate(clf.estimators_):\n",
    "    s = np.array([lr.coef_ for lr in estimator.estimators_])\n",
    "    coef_lower.append(np.percentile(s, 5, axis = 0))\n",
    "    coef_upper.append(np.percentile(s, 95, axis = 0))\n",
    "    b = np.array([lr.intercept_ for lr in estimator.estimators_])\n",
    "    bias_lower.append(np.percentile(b, 5, axis = 0))\n",
    "    bias_upper.append(np.percentile(b, 95, axis = 0))"
   ]
  },
  {
   "cell_type": "code",
   "execution_count": 8,
   "metadata": {},
   "outputs": [
    {
     "name": "stdout",
     "output_type": "stream",
     "text": [
      "Predictor for y0 coef p0 ( -0.118827944182 , 0.567393802207 )\n",
      "Predictor for y0 coef p1 ( -0.347774139164 , 0.425563980572 )\n",
      "Predictor for y0 coef p2 ( -0.430203323068 , 0.371498430791 )\n",
      "Predictor for y0 coef p3 ( -0.0637298592671 , 0.771942751236 )\n",
      "Predictor for y0 coef p4 ( -0.617125323979 , 0.272946968713 )\n",
      "Predictor for y0 coef p5 ( -0.262012593691 , 0.554700151923 )\n",
      "Predictor for y0 coef p6 ( -0.610415721609 , 0.2213010691 )\n",
      "Predictor for y0 coef p7 ( -0.35500264343 , 0.346863524983 )\n",
      "Predictor for y0 coef p8 ( -0.337129360188 , 0.401810131029 )\n",
      "Predictor for y0 coef p9 ( -0.476111549375 , 0.221679003953 )\n",
      "Predictor for y0 coef p10 ( -0.181448623174 , 0.626964170657 )\n",
      "Predictor for y0 coef p11 ( -0.26838391012 , 0.431251775585 )\n",
      "Predictor for y0 coef p12 ( -0.301253124626 , 0.506646078249 )\n",
      "Predictor for y0 coef p13 ( -0.381387832166 , 0.334666372542 )\n",
      "Predictor for y0 coef p14 ( -0.657928370771 , 0.0792289379452 )\n",
      "Predictor for y0 coef p15 ( -0.161350534583 , 0.426350654281 )\n",
      "Predictor for y0 coef p16 ( -0.0978869706835 , 0.504700750076 )\n",
      "Predictor for y0 coef p17 ( -0.390616499515 , 0.304255574754 )\n",
      "Predictor for y0 coef p18 ( -0.50621828496 , 0.207209230676 )\n",
      "Predictor for y0 coef p19 ( -0.47686154158 , 0.243817567012 )\n",
      "Predictor for y0 coef p20 ( -0.106357081685 , 0.531733950155 )\n",
      "Predictor for y0 coef p21 ( -0.306965663407 , 0.309847921053 )\n",
      "Predictor for y0 coef p22 ( 0.0272762955141 , 0.599326208896 )\n",
      "Predictor for y0 coef p23 ( -0.499002808361 , 0.156732049203 )\n",
      "Predictor for y0 coef p24 ( -0.211895651164 , 0.380744854701 )\n",
      "Predictor for y0 coef p25 ( -0.285016529253 , 0.351119894803 )\n",
      "Predictor for y0 coef p26 ( -0.275838881225 , 0.375001701148 )\n",
      "Predictor for y0 coef p27 ( -0.486901696767 , 0.211056857748 )\n",
      "Predictor for y0  bias ( -0.486901696767 , 0.211056857748 )\n",
      "Predictor for y1 coef p0 ( -0.313565934461 , 0.428351062117 )\n",
      "Predictor for y1 coef p1 ( -0.218511052883 , 0.513859461483 )\n",
      "Predictor for y1 coef p2 ( -0.486885273322 , 0.386100507688 )\n",
      "Predictor for y1 coef p3 ( -0.382893371145 , 0.557068919526 )\n",
      "Predictor for y1 coef p4 ( -0.447307988767 , 0.616951374074 )\n",
      "Predictor for y1 coef p5 ( -0.130267582096 , 0.727612625391 )\n",
      "Predictor for y1 coef p6 ( -0.0621123501394 , 0.654999747898 )\n",
      "Predictor for y1 coef p7 ( -0.653109832829 , 0.115290054082 )\n",
      "Predictor for y1 coef p8 ( -0.348806897301 , 0.337337426136 )\n",
      "Predictor for y1 coef p9 ( -0.392191443067 , 0.323603208004 )\n",
      "Predictor for y1 coef p10 ( -0.330311041398 , 0.546237088401 )\n",
      "Predictor for y1 coef p11 ( -0.322231864909 , 0.439846128701 )\n",
      "Predictor for y1 coef p12 ( -0.363363056833 , 0.422266414425 )\n",
      "Predictor for y1 coef p13 ( -0.164401752958 , 0.517899469684 )\n",
      "Predictor for y1 coef p14 ( -0.632859463957 , 0.194281713023 )\n",
      "Predictor for y1 coef p15 ( -0.182802910447 , 0.448857696796 )\n",
      "Predictor for y1 coef p16 ( -0.167222792031 , 0.452197012295 )\n",
      "Predictor for y1 coef p17 ( -0.312653894298 , 0.360256225074 )\n",
      "Predictor for y1 coef p18 ( -0.654379423104 , 0.206152846429 )\n",
      "Predictor for y1 coef p19 ( -0.514598696458 , 0.261457607255 )\n",
      "Predictor for y1 coef p20 ( -0.184145439067 , 0.583235078393 )\n",
      "Predictor for y1 coef p21 ( -0.191662922466 , 0.547257724002 )\n",
      "Predictor for y1 coef p22 ( -0.354286590816 , 0.249778130554 )\n",
      "Predictor for y1 coef p23 ( -0.415455898465 , 0.394537426219 )\n",
      "Predictor for y1 coef p24 ( -0.319053769293 , 0.351760327826 )\n",
      "Predictor for y1 coef p25 ( -0.194293740392 , 0.542358139074 )\n",
      "Predictor for y1 coef p26 ( -0.555214957156 , 0.228900770019 )\n",
      "Predictor for y1 coef p27 ( -0.444066661118 , 0.144662339309 )\n",
      "Predictor for y1  bias ( -0.444066661118 , 0.144662339309 )\n",
      "Predictor for y2 coef p0 ( -0.0145105330116 , 0.138216927508 )\n",
      "Predictor for y2 coef p1 ( -0.0338685936244 , 0.0924108119213 )\n",
      "Predictor for y2 coef p2 ( -0.0350810898149 , 0.138745937324 )\n",
      "Predictor for y2 coef p3 ( 0.0128867710083 , 0.154682829506 )\n",
      "Predictor for y2 coef p4 ( 0.00605148253327 , 0.161615457909 )\n",
      "Predictor for y2 coef p5 ( -0.0648319352952 , 0.111205634709 )\n",
      "Predictor for y2 coef p6 ( 0.0442461196086 , 0.212239818482 )\n",
      "Predictor for y2 coef p7 ( 0.0414068927626 , 0.1846863519 )\n",
      "Predictor for y2 coef p8 ( -0.00777207081769 , 0.128029484665 )\n",
      "Predictor for y2 coef p9 ( 0.000153396021432 , 0.135886971338 )\n",
      "Predictor for y2 coef p10 ( 0.0560500926228 , 0.20629350325 )\n",
      "Predictor for y2 coef p11 ( 0.0206624044784 , 0.168166657386 )\n",
      "Predictor for y2 coef p12 ( -0.0466569469236 , 0.111423545093 )\n",
      "Predictor for y2 coef p13 ( -0.00221298876386 , 0.13595229831 )\n",
      "Predictor for y2 coef p14 ( 0.000514994012925 , 0.152643001833 )\n",
      "Predictor for y2 coef p15 ( -0.0531277386389 , 0.0579702291453 )\n",
      "Predictor for y2 coef p16 ( -0.0759149454385 , 0.0510470800837 )\n",
      "Predictor for y2 coef p17 ( -0.0694699155827 , 0.0748201221868 )\n",
      "Predictor for y2 coef p18 ( -0.0328401599035 , 0.0983843679649 )\n",
      "Predictor for y2 coef p19 ( -0.0446643338894 , 0.0832913536546 )\n",
      "Predictor for y2 coef p20 ( -0.0676687590588 , 0.0673722020695 )\n",
      "Predictor for y2 coef p21 ( -0.0962559745275 , 0.0385596776992 )\n",
      "Predictor for y2 coef p22 ( -0.052154158652 , 0.0575749523908 )\n",
      "Predictor for y2 coef p23 ( -0.0415991475652 , 0.078648753609 )\n",
      "Predictor for y2 coef p24 ( -0.107622107797 , 0.0202770854306 )\n",
      "Predictor for y2 coef p25 ( -0.0739443653745 , 0.0434496745666 )\n",
      "Predictor for y2 coef p26 ( -0.0646073626629 , 0.0540504240535 )\n",
      "Predictor for y2 coef p27 ( -0.0655047413958 , 0.0341096727293 )\n",
      "Predictor for y2  bias ( -0.0655047413958 , 0.0341096727293 )\n",
      "Predictor for y3 coef p0 ( -0.0693945772852 , 0.029517045046 )\n",
      "Predictor for y3 coef p1 ( -0.0418401450183 , 0.0396975671563 )\n",
      "Predictor for y3 coef p2 ( -0.0240565376471 , 0.0834177775866 )\n",
      "Predictor for y3 coef p3 ( -0.0182013639307 , 0.0782409523749 )\n",
      "Predictor for y3 coef p4 ( -0.0177430611387 , 0.0771814695279 )\n",
      "Predictor for y3 coef p5 ( -0.0274475923366 , 0.0696075759534 )\n",
      "Predictor for y3 coef p6 ( -0.0666781089913 , 0.0397236534767 )\n",
      "Predictor for y3 coef p7 ( -0.00544231284622 , 0.0857745664389 )\n",
      "Predictor for y3 coef p8 ( -0.0147473136118 , 0.0898830340382 )\n",
      "Predictor for y3 coef p9 ( -0.0262969958139 , 0.0800048905023 )\n",
      "Predictor for y3 coef p10 ( -0.0547785007191 , 0.0494114061728 )\n",
      "Predictor for y3 coef p11 ( -0.0413550336117 , 0.052052496391 )\n",
      "Predictor for y3 coef p12 ( -0.0822085446412 , 0.0124690172735 )\n",
      "Predictor for y3 coef p13 ( -0.0137807359552 , 0.0784899423313 )\n",
      "Predictor for y3 coef p14 ( -0.0784070540675 , 0.0405636132668 )\n",
      "Predictor for y3 coef p15 ( -0.0132769380524 , 0.0598525432643 )\n",
      "Predictor for y3 coef p16 ( -0.0753348556905 , 0.0267911752571 )\n",
      "Predictor for y3 coef p17 ( -0.0153658621773 , 0.0735921619391 )\n",
      "Predictor for y3 coef p18 ( -0.0233688093068 , 0.0537570575202 )\n",
      "Predictor for y3 coef p19 ( -0.0192313924131 , 0.0763725465155 )\n",
      "Predictor for y3 coef p20 ( -0.0116657060737 , 0.0840633666434 )\n",
      "Predictor for y3 coef p21 ( -0.0809664106759 , 0.010318392631 )\n",
      "Predictor for y3 coef p22 ( -0.0171770983689 , 0.0602252588927 )\n",
      "Predictor for y3 coef p23 ( -0.0365738148519 , 0.047190946426 )\n",
      "Predictor for y3 coef p24 ( -0.0717590486732 , 0.00926085493943 )\n",
      "Predictor for y3 coef p25 ( -0.0384262591898 , 0.0444274736279 )\n",
      "Predictor for y3 coef p26 ( -0.0358053409735 , 0.0511971513084 )\n",
      "Predictor for y3 coef p27 ( -0.035729734579 , 0.0414354395342 )\n",
      "Predictor for y3  bias ( -0.035729734579 , 0.0414354395342 )\n",
      "Predictor for y4 coef p0 ( -0.0954476260092 , 0.288530351101 )\n",
      "Predictor for y4 coef p1 ( -0.119310770589 , 0.246200574191 )\n",
      "Predictor for y4 coef p2 ( -0.212492829306 , 0.221715085942 )\n",
      "Predictor for y4 coef p3 ( 0.0147568749701 , 0.403163046068 )\n",
      "Predictor for y4 coef p4 ( -0.219646141082 , 0.161801381203 )\n",
      "Predictor for y4 coef p5 ( -0.0851151141456 , 0.37937447136 )\n",
      "Predictor for y4 coef p6 ( -0.112740210502 , 0.257206074517 )\n",
      "Predictor for y4 coef p7 ( -0.223377418106 , 0.155726748586 )\n",
      "Predictor for y4 coef p8 ( -0.161170166827 , 0.209570121051 )\n",
      "Predictor for y4 coef p9 ( -0.213416656431 , 0.147793313442 )\n",
      "Predictor for y4 coef p10 ( -0.0841809854253 , 0.362098865101 )\n",
      "Predictor for y4 coef p11 ( -0.124789801648 , 0.26905032387 )\n",
      "Predictor for y4 coef p12 ( -0.163401578504 , 0.278066055071 )\n",
      "Predictor for y4 coef p13 ( -0.0810552055547 , 0.268079168636 )\n",
      "Predictor for y4 coef p14 ( -0.371074525726 , 0.065200054411 )\n",
      "Predictor for y4 coef p15 ( -0.0643062694071 , 0.263733405537 )\n",
      "Predictor for y4 coef p16 ( -0.0726658126984 , 0.266541888906 )\n",
      "Predictor for y4 coef p17 ( -0.170897259187 , 0.186794623856 )\n",
      "Predictor for y4 coef p18 ( -0.314283950395 , 0.116653645437 )\n"
     ]
    },
    {
     "name": "stdout",
     "output_type": "stream",
     "text": [
      "Predictor for y4 coef p19 ( -0.282425459942 , 0.123619120991 )\n",
      "Predictor for y4 coef p20 ( -0.0729594836357 , 0.330054038528 )\n",
      "Predictor for y4 coef p21 ( -0.154968900588 , 0.211683649183 )\n",
      "Predictor for y4 coef p22 ( -0.0645961112438 , 0.244246941271 )\n",
      "Predictor for y4 coef p23 ( -0.266792590216 , 0.156769234077 )\n",
      "Predictor for y4 coef p24 ( -0.15463172694 , 0.168031013343 )\n",
      "Predictor for y4 coef p25 ( -0.116501519443 , 0.245257067958 )\n",
      "Predictor for y4 coef p26 ( -0.229722115304 , 0.180047910946 )\n",
      "Predictor for y4 coef p27 ( -0.250361346553 , 0.0650676360754 )\n",
      "Predictor for y4  bias ( -0.250361346553 , 0.0650676360754 )\n"
     ]
    }
   ],
   "source": [
    "for i in range(len(coef_lower)):\n",
    "    for j in range(coef_lower[i].shape[0]):\n",
    "        print ('Predictor for y{}'.format(i), 'coef p{}'.format(j), '(', coef_lower[i][j], ',',coef_upper[i][j], ')')\n",
    "    print ('Predictor for y{}'.format(i),' bias', '(', coef_lower[i][j], ',',coef_upper[i][j], ')')"
   ]
  },
  {
   "cell_type": "markdown",
   "metadata": {
    "collapsed": true
   },
   "source": [
    "# 2."
   ]
  },
  {
   "cell_type": "code",
   "execution_count": 9,
   "metadata": {},
   "outputs": [
    {
     "data": {
      "text/plain": [
       "(1327, 2)"
      ]
     },
     "execution_count": 9,
     "metadata": {},
     "output_type": "execute_result"
    }
   ],
   "source": [
    "df = pd.read_csv('ds-boot-1.csv',sep='\t', index_col=0)\n",
    "df.shape"
   ]
  },
  {
   "cell_type": "code",
   "execution_count": 10,
   "metadata": {},
   "outputs": [
    {
     "data": {
      "text/plain": [
       "[<matplotlib.lines.Line2D at 0x1f40a6f96a0>]"
      ]
     },
     "execution_count": 10,
     "metadata": {},
     "output_type": "execute_result"
    },
    {
     "data": {
      "image/png": "[encoded data removed]",
      "text/plain": [
       "<matplotlib.figure.Figure at 0x1f40a6bfdd8>"
      ]
     },
     "metadata": {},
     "output_type": "display_data"
    }
   ],
   "source": [
    "plt.plot(df.cummBugs.values)"
   ]
  },
  {
   "cell_type": "code",
   "execution_count": 11,
   "metadata": {},
   "outputs": [
    {
     "name": "stderr",
     "output_type": "stream",
     "text": [
      "C:\\Users\\nprok\\Anaconda3\\lib\\site-packages\\ipykernel_launcher.py:9: RuntimeWarning: overflow encountered in exp\n",
      "  if __name__ == '__main__':\n"
     ]
    }
   ],
   "source": [
    "from scipy import optimize\n",
    "from functools import reduce\n",
    "import itertools\n",
    "B = 1000\n",
    "N = df.shape[0]\n",
    "block_size = 20\n",
    "n_blocks = int(np.ceil(N / 20))\n",
    "def logistic(x, L, x0, k):\n",
    "    return L / (1 + np.exp(-k*(x - x0)))\n",
    "\n",
    "blocks = np.array_split(df.bugsPerDay.values, n_blocks)\n",
    "coef = np.zeros((B, 3))\n",
    "for i in range(B):\n",
    "    bootstrap_indeces = np.sort(np.random.randint(0, n_blocks, n_blocks))\n",
    "    bootstrap_samples = [blocks[index].tolist() for index in bootstrap_indeces]\n",
    "    bootstrap_samples = reduce(lambda x,y: x+y,bootstrap_samples)\n",
    "    bootstrap_samples = list(itertools.accumulate(bootstrap_samples))\n",
    "    coef[i], _ = optimize.curve_fit(logistic, np.arange(len(bootstrap_samples)), bootstrap_samples)"
   ]
  },
  {
   "cell_type": "code",
   "execution_count": 12,
   "metadata": {},
   "outputs": [
    {
     "name": "stdout",
     "output_type": "stream",
     "text": [
      "Coef L (4684.092601 , 6619.514762)\n",
      "Coef x0 (551.633992 , 730.490762)\n",
      "Coef k (0.004981 , 0.007292)\n"
     ]
    }
   ],
   "source": [
    "mean_coef = np.mean(coef,axis=0)\n",
    "lb = np.percentile(coef, 5, axis = 0)\n",
    "ub = np.percentile(coef, 95, axis = 0)\n",
    "print(\"Coef L (%f , %f)\" % (lb[0] , ub[0]))\n",
    "print(\"Coef x0 (%f , %f)\" % (lb[1] , ub[1]))\n",
    "print(\"Coef k (%f , %f)\" % (lb[2] , ub[2]))"
   ]
  },
  {
   "cell_type": "code",
   "execution_count": 13,
   "metadata": {},
   "outputs": [
    {
     "data": {
      "text/plain": [
       "[<matplotlib.lines.Line2D at 0x1f40c7de4e0>]"
      ]
     },
     "execution_count": 13,
     "metadata": {},
     "output_type": "execute_result"
    },
    {
     "data": {
      "image/png": "[encoded data removed]",
      "text/plain": [
       "<matplotlib.figure.Figure at 0x1f40c799e80>"
      ]
     },
     "metadata": {},
     "output_type": "display_data"
    }
   ],
   "source": [
    "def bootstrap_fn(x):\n",
    "    return mean_coef[0] / (1 + np.exp(-mean_coef[2]*(x - mean_coef[1])))\n",
    "    \n",
    "plt.plot(bootstrap_fn(np.arange(N)))"
   ]
  },
  {
   "cell_type": "code",
   "execution_count": null,
   "metadata": {
    "collapsed": true
   },
   "outputs": [],
   "source": []
  }
 ],
 "metadata": {
  "kernelspec": {
   "display_name": "Python 3",
   "language": "python",
   "name": "python3"
  },
  "language_info": {
   "codemirror_mode": {
    "name": "ipython",
    "version": 3
   },
   "file_extension": ".py",
   "mimetype": "text/x-python",
   "name": "python",
   "nbconvert_exporter": "python",
   "pygments_lexer": "ipython3",
   "version": "3.6.3"
  },
  "varInspector": {
   "cols": {
    "lenName": 16,
    "lenType": 16,
    "lenVar": 40
   },
   "kernels_config": {
    "python": {
     "delete_cmd_postfix": "",
     "delete_cmd_prefix": "del ",
     "library": "var_list.py",
     "varRefreshCmd": "print(var_dic_list())"
    },
    "r": {
     "delete_cmd_postfix": ") ",
     "delete_cmd_prefix": "rm(",
     "library": "var_list.r",
     "varRefreshCmd": "cat(var_dic_list()) "
    }
   },
   "types_to_exclude": [
    "module",
    "function",
    "builtin_function_or_method",
    "instance",
    "_Feature"
   ],
   "window_display": false
  }
 },
 "nbformat": 4,
 "nbformat_minor": 2
}
