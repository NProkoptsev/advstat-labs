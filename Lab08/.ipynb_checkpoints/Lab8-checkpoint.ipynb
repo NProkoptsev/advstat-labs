{
 "cells": [
  {
   "cell_type": "code",
   "execution_count": 32,
   "metadata": {},
   "outputs": [],
   "source": [
    "import pandas as pd\n",
    "import numpy as np\n",
    "from sklearn import ensemble\n",
    "from sklearn import linear_model\n",
    "from sklearn import multioutput\n",
    "from sklearn import metrics"
   ]
  },
  {
   "cell_type": "code",
   "execution_count": 14,
   "metadata": {},
   "outputs": [
    {
     "data": {
      "text/html": [
       "<div>\n",
       "<style>\n",
       "    .dataframe thead tr:only-child th {\n",
       "        text-align: right;\n",
       "    }\n",
       "\n",
       "    .dataframe thead th {\n",
       "        text-align: left;\n",
       "    }\n",
       "\n",
       "    .dataframe tbody tr th {\n",
       "        vertical-align: top;\n",
       "    }\n",
       "</style>\n",
       "<table border=\"1\" class=\"dataframe\">\n",
       "  <thead>\n",
       "    <tr style=\"text-align: right;\">\n",
       "      <th></th>\n",
       "      <th>p1</th>\n",
       "      <th>p2</th>\n",
       "      <th>p3</th>\n",
       "      <th>p4</th>\n",
       "      <th>p5</th>\n",
       "      <th>p6</th>\n",
       "      <th>p7</th>\n",
       "      <th>p8</th>\n",
       "      <th>p9</th>\n",
       "      <th>p10</th>\n",
       "      <th>...</th>\n",
       "      <th>p24</th>\n",
       "      <th>p25</th>\n",
       "      <th>p26</th>\n",
       "      <th>p27</th>\n",
       "      <th>p28</th>\n",
       "      <th>y1</th>\n",
       "      <th>y2</th>\n",
       "      <th>y3</th>\n",
       "      <th>y4</th>\n",
       "      <th>y5</th>\n",
       "    </tr>\n",
       "    <tr>\n",
       "      <th>id</th>\n",
       "      <th></th>\n",
       "      <th></th>\n",
       "      <th></th>\n",
       "      <th></th>\n",
       "      <th></th>\n",
       "      <th></th>\n",
       "      <th></th>\n",
       "      <th></th>\n",
       "      <th></th>\n",
       "      <th></th>\n",
       "      <th></th>\n",
       "      <th></th>\n",
       "      <th></th>\n",
       "      <th></th>\n",
       "      <th></th>\n",
       "      <th></th>\n",
       "      <th></th>\n",
       "      <th></th>\n",
       "      <th></th>\n",
       "      <th></th>\n",
       "      <th></th>\n",
       "    </tr>\n",
       "  </thead>\n",
       "  <tbody>\n",
       "    <tr>\n",
       "      <th>11</th>\n",
       "      <td>6.48148</td>\n",
       "      <td>3.0</td>\n",
       "      <td>5.0</td>\n",
       "      <td>7.75000</td>\n",
       "      <td>0.0</td>\n",
       "      <td>7.16667</td>\n",
       "      <td>8.16667</td>\n",
       "      <td>9.66667</td>\n",
       "      <td>6.16667</td>\n",
       "      <td>9.0</td>\n",
       "      <td>...</td>\n",
       "      <td>1.66667</td>\n",
       "      <td>3.16667</td>\n",
       "      <td>0.0</td>\n",
       "      <td>0.00000</td>\n",
       "      <td>0.0</td>\n",
       "      <td>1.0</td>\n",
       "      <td>5.00</td>\n",
       "      <td>7.44</td>\n",
       "      <td>1.18</td>\n",
       "      <td>4.38</td>\n",
       "    </tr>\n",
       "    <tr>\n",
       "      <th>12</th>\n",
       "      <td>5.74074</td>\n",
       "      <td>4.0</td>\n",
       "      <td>8.0</td>\n",
       "      <td>7.33333</td>\n",
       "      <td>8.0</td>\n",
       "      <td>8.83333</td>\n",
       "      <td>9.75000</td>\n",
       "      <td>9.66667</td>\n",
       "      <td>9.00000</td>\n",
       "      <td>10.0</td>\n",
       "      <td>...</td>\n",
       "      <td>2.50000</td>\n",
       "      <td>5.50000</td>\n",
       "      <td>5.0</td>\n",
       "      <td>8.66667</td>\n",
       "      <td>8.0</td>\n",
       "      <td>4.5</td>\n",
       "      <td>4.25</td>\n",
       "      <td>8.93</td>\n",
       "      <td>2.00</td>\n",
       "      <td>6.03</td>\n",
       "    </tr>\n",
       "    <tr>\n",
       "      <th>25</th>\n",
       "      <td>7.59259</td>\n",
       "      <td>7.0</td>\n",
       "      <td>8.0</td>\n",
       "      <td>7.66667</td>\n",
       "      <td>8.0</td>\n",
       "      <td>9.66667</td>\n",
       "      <td>9.50000</td>\n",
       "      <td>6.16667</td>\n",
       "      <td>9.66667</td>\n",
       "      <td>6.5</td>\n",
       "      <td>...</td>\n",
       "      <td>3.50000</td>\n",
       "      <td>3.50000</td>\n",
       "      <td>9.0</td>\n",
       "      <td>6.50000</td>\n",
       "      <td>7.0</td>\n",
       "      <td>7.5</td>\n",
       "      <td>11.00</td>\n",
       "      <td>8.97</td>\n",
       "      <td>2.00</td>\n",
       "      <td>9.12</td>\n",
       "    </tr>\n",
       "    <tr>\n",
       "      <th>31</th>\n",
       "      <td>5.96297</td>\n",
       "      <td>4.0</td>\n",
       "      <td>8.0</td>\n",
       "      <td>9.33333</td>\n",
       "      <td>10.0</td>\n",
       "      <td>9.33333</td>\n",
       "      <td>7.00000</td>\n",
       "      <td>8.50000</td>\n",
       "      <td>9.66667</td>\n",
       "      <td>6.5</td>\n",
       "      <td>...</td>\n",
       "      <td>0.00000</td>\n",
       "      <td>0.00000</td>\n",
       "      <td>0.0</td>\n",
       "      <td>0.00000</td>\n",
       "      <td>0.0</td>\n",
       "      <td>4.0</td>\n",
       "      <td>6.25</td>\n",
       "      <td>8.93</td>\n",
       "      <td>1.82</td>\n",
       "      <td>6.41</td>\n",
       "    </tr>\n",
       "    <tr>\n",
       "      <th>48</th>\n",
       "      <td>5.44444</td>\n",
       "      <td>1.0</td>\n",
       "      <td>3.5</td>\n",
       "      <td>6.41667</td>\n",
       "      <td>9.0</td>\n",
       "      <td>8.50000</td>\n",
       "      <td>7.08333</td>\n",
       "      <td>6.33333</td>\n",
       "      <td>9.00000</td>\n",
       "      <td>7.0</td>\n",
       "      <td>...</td>\n",
       "      <td>0.00000</td>\n",
       "      <td>0.00000</td>\n",
       "      <td>0.0</td>\n",
       "      <td>0.00000</td>\n",
       "      <td>0.0</td>\n",
       "      <td>0.0</td>\n",
       "      <td>3.00</td>\n",
       "      <td>8.08</td>\n",
       "      <td>1.36</td>\n",
       "      <td>3.67</td>\n",
       "    </tr>\n",
       "  </tbody>\n",
       "</table>\n",
       "<p>5 rows × 33 columns</p>\n",
       "</div>"
      ],
      "text/plain": [
       "         p1   p2   p3       p4    p5       p6       p7       p8       p9  \\\n",
       "id                                                                         \n",
       "11  6.48148  3.0  5.0  7.75000   0.0  7.16667  8.16667  9.66667  6.16667   \n",
       "12  5.74074  4.0  8.0  7.33333   8.0  8.83333  9.75000  9.66667  9.00000   \n",
       "25  7.59259  7.0  8.0  7.66667   8.0  9.66667  9.50000  6.16667  9.66667   \n",
       "31  5.96297  4.0  8.0  9.33333  10.0  9.33333  7.00000  8.50000  9.66667   \n",
       "48  5.44444  1.0  3.5  6.41667   9.0  8.50000  7.08333  6.33333  9.00000   \n",
       "\n",
       "     p10  ...       p24      p25  p26      p27  p28   y1     y2    y3    y4  \\\n",
       "id        ...                                                                 \n",
       "11   9.0  ...   1.66667  3.16667  0.0  0.00000  0.0  1.0   5.00  7.44  1.18   \n",
       "12  10.0  ...   2.50000  5.50000  5.0  8.66667  8.0  4.5   4.25  8.93  2.00   \n",
       "25   6.5  ...   3.50000  3.50000  9.0  6.50000  7.0  7.5  11.00  8.97  2.00   \n",
       "31   6.5  ...   0.00000  0.00000  0.0  0.00000  0.0  4.0   6.25  8.93  1.82   \n",
       "48   7.0  ...   0.00000  0.00000  0.0  0.00000  0.0  0.0   3.00  8.08  1.36   \n",
       "\n",
       "      y5  \n",
       "id        \n",
       "11  4.38  \n",
       "12  6.03  \n",
       "25  9.12  \n",
       "31  6.41  \n",
       "48  3.67  \n",
       "\n",
       "[5 rows x 33 columns]"
      ]
     },
     "execution_count": 14,
     "metadata": {},
     "output_type": "execute_result"
    }
   ],
   "source": [
    "df_train = pd.read_csv('ds-boot-2.csv',sep='\t', index_col=0)\n",
    "df_train.head()"
   ]
  },
  {
   "cell_type": "code",
   "execution_count": 15,
   "metadata": {},
   "outputs": [],
   "source": [
    "X_train = df_train.values[:,:28]\n",
    "y_train = df_train.values[:,28:]"
   ]
  },
  {
   "cell_type": "code",
   "execution_count": 22,
   "metadata": {},
   "outputs": [
    {
     "data": {
      "text/plain": [
       "MultiOutputRegressor(estimator=BaggingRegressor(base_estimator=LinearRegression(copy_X=True, fit_intercept=True, n_jobs=1, normalize=False),\n",
       "         bootstrap=True, bootstrap_features=False, max_features=1.0,\n",
       "         max_samples=1.0, n_estimators=100, n_jobs=1, oob_score=False,\n",
       "         random_state=None, verbose=0, warm_start=False),\n",
       "           n_jobs=1)"
      ]
     },
     "execution_count": 22,
     "metadata": {},
     "output_type": "execute_result"
    }
   ],
   "source": [
    "est = linear_model.LinearRegression()\n",
    "clf = ensemble.BaggingRegressor(est, 100)\n",
    "clf = multioutput.MultiOutputRegressor(clf)\n",
    "clf.fit(X_train, y_train)"
   ]
  },
  {
   "cell_type": "code",
   "execution_count": 37,
   "metadata": {},
   "outputs": [
    {
     "name": "stdout",
     "output_type": "stream",
     "text": [
      "Average R^2 0.934456029762\n"
     ]
    }
   ],
   "source": [
    "print('Average R^2', clf.score(X_train, y_train))"
   ]
  },
  {
   "cell_type": "code",
   "execution_count": 36,
   "metadata": {},
   "outputs": [
    {
     "name": "stdout",
     "output_type": "stream",
     "text": [
      "Mean of predicted [ 4.22864683  5.6128069   7.22559705  1.50403736  5.69051025]\n",
      "Mean of predicted [ 4.42043855  6.311616    8.2926213   1.73439742  6.51267016]\n",
      "MSE  [0.98410485823052585, 1.2984513886542146, 0.05504171524638115, 0.021229309819131206, 0.30378776634318455]\n"
     ]
    }
   ],
   "source": [
    "predicted = clf.predict(X_train)\n",
    "print('Mean of predicted', np.mean(predicted, axis = 0))\n",
    "print('Mean of predicted', np.median(predicted, axis = 0))\n",
    "print('MSE ', [metrics.mean_squared_error(predicted[:,i], y_train[:,i]) for i,_ in enumerate(predicted.T)])"
   ]
  },
  {
   "cell_type": "code",
   "execution_count": 45,
   "metadata": {},
   "outputs": [
    {
     "data": {
      "text/plain": [
       "[BaggingRegressor(base_estimator=LinearRegression(copy_X=True, fit_intercept=True, n_jobs=1, normalize=False),\n",
       "          bootstrap=True, bootstrap_features=False, max_features=1.0,\n",
       "          max_samples=1.0, n_estimators=100, n_jobs=1, oob_score=False,\n",
       "          random_state=None, verbose=0, warm_start=False),\n",
       " BaggingRegressor(base_estimator=LinearRegression(copy_X=True, fit_intercept=True, n_jobs=1, normalize=False),\n",
       "          bootstrap=True, bootstrap_features=False, max_features=1.0,\n",
       "          max_samples=1.0, n_estimators=100, n_jobs=1, oob_score=False,\n",
       "          random_state=None, verbose=0, warm_start=False),\n",
       " BaggingRegressor(base_estimator=LinearRegression(copy_X=True, fit_intercept=True, n_jobs=1, normalize=False),\n",
       "          bootstrap=True, bootstrap_features=False, max_features=1.0,\n",
       "          max_samples=1.0, n_estimators=100, n_jobs=1, oob_score=False,\n",
       "          random_state=None, verbose=0, warm_start=False),\n",
       " BaggingRegressor(base_estimator=LinearRegression(copy_X=True, fit_intercept=True, n_jobs=1, normalize=False),\n",
       "          bootstrap=True, bootstrap_features=False, max_features=1.0,\n",
       "          max_samples=1.0, n_estimators=100, n_jobs=1, oob_score=False,\n",
       "          random_state=None, verbose=0, warm_start=False),\n",
       " BaggingRegressor(base_estimator=LinearRegression(copy_X=True, fit_intercept=True, n_jobs=1, normalize=False),\n",
       "          bootstrap=True, bootstrap_features=False, max_features=1.0,\n",
       "          max_samples=1.0, n_estimators=100, n_jobs=1, oob_score=False,\n",
       "          random_state=None, verbose=0, warm_start=False)]"
      ]
     },
     "execution_count": 45,
     "metadata": {},
     "output_type": "execute_result"
    }
   ],
   "source": [
    "for estimator in clf.estimators_:\n",
    "    estimator."
   ]
  },
  {
   "cell_type": "code",
   "execution_count": 43,
   "metadata": {},
   "outputs": [
    {
     "ename": "TypeError",
     "evalue": "'tuple' object is not callable",
     "output_type": "error",
     "traceback": [
      "\u001b[1;31m---------------------------------------------------------------------------\u001b[0m",
      "\u001b[1;31mTypeError\u001b[0m                                 Traceback (most recent call last)",
      "\u001b[1;32m<ipython-input-43-d1fd4eb711f5>\u001b[0m in \u001b[0;36m<module>\u001b[1;34m()\u001b[0m\n\u001b[1;32m----> 1\u001b[1;33m \u001b[0ma\u001b[0m\u001b[1;33m.\u001b[0m\u001b[0mestimator_params\u001b[0m\u001b[1;33m(\u001b[0m\u001b[1;33m)\u001b[0m\u001b[1;33m\u001b[0m\u001b[0m\n\u001b[0m",
      "\u001b[1;31mTypeError\u001b[0m: 'tuple' object is not callable"
     ]
    }
   ],
   "source": []
  },
  {
   "cell_type": "code",
   "execution_count": null,
   "metadata": {},
   "outputs": [],
   "source": []
  }
 ],
 "metadata": {
  "kernelspec": {
   "display_name": "Python 3",
   "language": "python",
   "name": "python3"
  },
  "language_info": {
   "codemirror_mode": {
    "name": "ipython",
    "version": 3
   },
   "file_extension": ".py",
   "mimetype": "text/x-python",
   "name": "python",
   "nbconvert_exporter": "python",
   "pygments_lexer": "ipython3",
   "version": "3.6.3"
  }
 },
 "nbformat": 4,
 "nbformat_minor": 2
}
