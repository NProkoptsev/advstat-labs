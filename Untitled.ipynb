{
 "cells": [
  {
   "cell_type": "code",
   "execution_count": 5,
   "metadata": {
    "collapsed": true
   },
   "outputs": [],
   "source": [
    "import numpy as np\n",
    "from scipy.stats import norm"
   ]
  },
  {
   "cell_type": "code",
   "execution_count": 103,
   "metadata": {},
   "outputs": [],
   "source": [
    "def kalm_test(sample):\n",
    "    d = 0\n",
    "    for i,x in enumerate(sample):\n",
    "        val = max(norm.cdf(x) - i/N, (i-1)/N - norm.cdf(x))\n",
    "        d = max(val,d)\n",
    "    alpha = 0.05\n",
    "    cr_value = 1.35810 / np.sqrt(1000)\n",
    "    print(\"Statistics\", d, \"Critical Value\", cr_value)\n",
    "    print(\"Accpet H0 :\", d < cr_value)"
   ]
  },
  {
   "cell_type": "code",
   "execution_count": 104,
   "metadata": {},
   "outputs": [
    {
     "name": "stdout",
     "output_type": "stream",
     "text": [
      "Statistics 0.0282876160418 Critical Value 0.0429468929027\n",
      "Accpet H0 : True\n"
     ]
    }
   ],
   "source": [
    "N = 1000\n",
    "sample = np.random.randn(N)\n",
    "sample.sort()\n",
    "kalm_test(sample)"
   ]
  },
  {
   "cell_type": "code",
   "execution_count": 105,
   "metadata": {},
   "outputs": [
    {
     "name": "stdout",
     "output_type": "stream",
     "text": [
      "Statistics 0.0644551781882 Critical Value 0.0429468929027\n",
      "Accpet H0 : False\n"
     ]
    }
   ],
   "source": [
    "sample = np.random.laplace(size = 1000)\n",
    "sample.sort()\n",
    "kalm_test(sample)"
   ]
  },
  {
   "cell_type": "code",
   "execution_count": 106,
   "metadata": {},
   "outputs": [
    {
     "name": "stdout",
     "output_type": "stream",
     "text": [
      "Statistics 0.0463284655788 Critical Value 0.0429468929027\n",
      "Accpet H0 : False\n"
     ]
    }
   ],
   "source": [
    "from scipy.stats import t\n",
    "sample = t.rvs(3, size = 1000)\n",
    "sample.sort()\n",
    "kalm_test(sample)"
   ]
  },
  {
   "cell_type": "code",
   "execution_count": 107,
   "metadata": {},
   "outputs": [
    {
     "name": "stdout",
     "output_type": "stream",
     "text": [
      "Statistics 0.532918954764 Critical Value 0.0429468929027\n",
      "Accpet H0 : False\n"
     ]
    }
   ],
   "source": [
    "sample = np.random.lognormal(size = 1000)\n",
    "sample.sort()\n",
    "kalm_test(sample)"
   ]
  },
  {
   "cell_type": "code",
   "execution_count": null,
   "metadata": {
    "collapsed": true
   },
   "outputs": [],
   "source": []
  },
  {
   "cell_type": "code",
   "execution_count": null,
   "metadata": {
    "collapsed": true
   },
   "outputs": [],
   "source": []
  }
 ],
 "metadata": {
  "kernelspec": {
   "display_name": "Python 3",
   "language": "python",
   "name": "python3"
  },
  "language_info": {
   "codemirror_mode": {
    "name": "ipython",
    "version": 3
   },
   "file_extension": ".py",
   "mimetype": "text/x-python",
   "name": "python",
   "nbconvert_exporter": "python",
   "pygments_lexer": "ipython3",
   "version": "3.6.1"
  }
 },
 "nbformat": 4,
 "nbformat_minor": 2
}
